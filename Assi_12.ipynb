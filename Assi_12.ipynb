{
 "cells": [
  {
   "cell_type": "markdown",
   "id": "9a0c0cba-01e4-4583-b459-a87aa92e12ae",
   "metadata": {},
   "source": [
    "Question :- 1\n",
    "\n",
    "\n",
    "Multithreading in Python refers to the ability of a program to execute multiple threads concurrently within a single process.\n",
    "\n",
    "\n",
    "Multithreading is used in Python to handle situations where a program needs to perform concurrent or parallel tasks, such as handling multiple client requests in a server application, performing computationally intensive operations while keeping the user interface responsive, or utilizing multiple CPU cores efficiently for faster execution.\n",
    "\n",
    "Threading module is used  to handle the threads in python"
   ]
  },
  {
   "cell_type": "markdown",
   "id": "7c3d91a1-2cf5-4dd4-ac66-7498684dbe81",
   "metadata": {},
   "source": [
    "Question :- 2\n",
    "\n",
    "The threading module in python is used to create and manage ethe threads in program "
   ]
  },
  {
   "cell_type": "markdown",
   "id": "3d0963d7-82ce-48dd-984f-3fd3af10ed90",
   "metadata": {},
   "source": [
    "1. activeCount() :-  \n",
    "The function activeCount() is a method provided by the Python threading module. It is used to retrieve the number of currently active Thread objects in a program. The term \"active\" refers to threads that have been started but have not yet completed their execution\n",
    "\n",
    "\n",
    "2.currentThread() :\n",
    "\n",
    "In Python, you can retrieve the currently executing thread by using the current_thread() function from the threading module. This function returns a Thread object representing the current thread.\n",
    "\n",
    "\n",
    "3.enumerate() :-\n",
    "\n",
    "\n",
    "The enumerate() function in Python is a built-in function that allows you to iterate over a sequence (such as a list, tuple, or string) while also keeping track of the index of each element. It returns an iterator that produces pairs of index and corresponding element."
   ]
  },
  {
   "cell_type": "markdown",
   "id": "48838f38-f40f-401c-823d-e3cc513761a7",
   "metadata": {},
   "source": [
    "Question :- 3\n",
    "\n",
    "run() :- It represents the entry point for threads execution\n",
    "\n",
    "start() :- start method is used to start the execution of the thread\n",
    "\n",
    "join() :- the join method is used to wait for a thread to complete its execution\n",
    "\n",
    "isAlive() :- isAlive method is used to check whether a thread is running ot Alive\n",
    "\n"
   ]
  },
  {
   "cell_type": "code",
   "execution_count": 1,
   "id": "3a7a613e-9fda-4db8-a6a1-0e4fc7022338",
   "metadata": {},
   "outputs": [],
   "source": [
    "Question :- 4\n",
    "import logging\n",
    "logging.basicConfig(filename = \"assi_12.log\" , level = logging.INFO )\n",
    "import threading\n",
    "import time\n"
   ]
  },
  {
   "cell_type": "code",
   "execution_count": 7,
   "id": "0fbf689b-2776-4662-91da-a9cae7dde90c",
   "metadata": {},
   "outputs": [],
   "source": [
    "numbers = [1,2,3,4,5,6]\n",
    "def test(numbers) :\n",
    "    logging.info(\"this is the fumvtion to test numberes\")\n",
    "    squares = [num ** 2  for num in numbers ]\n",
    "    logging.info(\"sqares list is making square of num that are i the list\")\n",
    "    \n",
    "    print(\"List of sqares\" , squares)\n",
    "    time.sleep(1)\n",
    "    logging.info(\"here time function is used with timer of 1 secondd\")\n",
    "    \n",
    "    \n",
    "def test1(numbers) :\n",
    "    logging.info(\"this is function we are making cubes of the number that are given in the list\")\n",
    "    cubes = [num ** 3  for num in  numbers]\n",
    "    print(\"list of cubes \" , cubes)\n",
    "    time.sleep(1)\n",
    "\n",
    "    "
   ]
  },
  {
   "cell_type": "code",
   "execution_count": 8,
   "id": "0dce43bf-5648-4a57-adf2-266f7fe0061c",
   "metadata": {},
   "outputs": [],
   "source": [
    "thread1 = [threading.Thread(target = test1 , args = (numbers, ))]"
   ]
  },
  {
   "cell_type": "code",
   "execution_count": 4,
   "id": "05fc8b47-5723-40ac-a8f2-23d8d6038269",
   "metadata": {},
   "outputs": [
    {
     "name": "stdout",
     "output_type": "stream",
     "text": [
      "list of cubes  [1, 8, 27, 64, 125, 216]\n"
     ]
    }
   ],
   "source": [
    "for t in thread1 :\n",
    "    logging.info(\"we are multithreaing the threads\")\n",
    "    t.start()"
   ]
  },
  {
   "cell_type": "code",
   "execution_count": 5,
   "id": "af4990dc-9923-45ce-a5aa-5502d398bb2a",
   "metadata": {},
   "outputs": [],
   "source": [
    "thread2 = [threading.Thread(target = test , args = (numbers, ))]"
   ]
  },
  {
   "cell_type": "code",
   "execution_count": 6,
   "id": "c2310d85-eb6d-4daf-a0be-1c2715302c8b",
   "metadata": {},
   "outputs": [
    {
     "name": "stdout",
     "output_type": "stream",
     "text": [
      "List of sqares [1, 4, 9, 16, 25, 36]\n"
     ]
    }
   ],
   "source": [
    "for i in thread2 :\n",
    "    i.start()"
   ]
  },
  {
   "cell_type": "markdown",
   "id": "b6d13629-c351-4157-9668-fea1b82f1780",
   "metadata": {},
   "source": [
    "Question  :- 5\n",
    "\n",
    "Advantages of multithreading:\n",
    "\n",
    "1. Increased responsiveness and improved user experience by allowing concurrent execution of multiple tasks.\n",
    "2. Efficient utilization of CPU resources and improved performance for certain types of applications.\n",
    "\n",
    "Disadvantages of multitthreading :\n",
    "\n",
    "\n",
    "1. Complexity in managing shared resources and ensuring thread safety, which can lead to race conditions, deadlocks, and synchronization issues.\n",
    "2. Increased difficulty in debugging and tracing program flow due to the interleaved execution of multiple threads.\n"
   ]
  },
  {
   "cell_type": "markdown",
   "id": "9d53341a-a6bc-48f1-ad56-137021f8264b",
   "metadata": {},
   "source": [
    "Question :- 6 \n",
    "\n",
    "Deadlocks :-\n",
    "\n",
    "A deadlock is a situation where two or more threads or processes are unable to proceed because each is waiting for a resource that another thread holds, resulting in a circular dependency.\n",
    "\n",
    "Race Conditions :-\n",
    "\n",
    "A race condition occurs when the behavior or output of a program depends on the relative timing or interleaving of multiple threads or processes. It happens when two or more threads access shared data concurrently, and the final outcome depends on the order of their execution. Race conditions can lead to unexpected and incorrect results."
   ]
  },
  {
   "cell_type": "code",
   "execution_count": null,
   "id": "af37158e-477c-4867-b74e-ba9f70170fa0",
   "metadata": {},
   "outputs": [],
   "source": []
  }
 ],
 "metadata": {
  "kernelspec": {
   "display_name": "Python 3 (ipykernel)",
   "language": "python",
   "name": "python3"
  },
  "language_info": {
   "codemirror_mode": {
    "name": "ipython",
    "version": 3
   },
   "file_extension": ".py",
   "mimetype": "text/x-python",
   "name": "python",
   "nbconvert_exporter": "python",
   "pygments_lexer": "ipython3",
   "version": "3.10.8"
  }
 },
 "nbformat": 4,
 "nbformat_minor": 5
}
