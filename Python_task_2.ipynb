{
 "cells": [
  {
   "cell_type": "code",
   "execution_count": 30,
   "id": "69fedae4-8fed-45ea-a67b-8144cab2c33e",
   "metadata": {},
   "outputs": [],
   "source": [
    "def check_password (password) :\n",
    "    if len(password) != 10 :\n",
    "        return \"Invalid Password\"\n",
    "    \n",
    "    \n",
    "    uppercase_counter = 0\n",
    "    for char in password :\n",
    "        if char.isupper():\n",
    "            uppercase_counter+=1\n",
    "    if uppercase_counter < 2 :\n",
    "        return \"Invalid Password\"\n",
    "    \n",
    "    lowercase_counter = 0\n",
    "    for char in password :\n",
    "        if char.islower() :\n",
    "            lowercase_counter+=1\n",
    "    if lowercase_counter < 2:\n",
    "        return \"Invalid Password\"\n",
    "    \n",
    "    number_count = sum(1 for char in password if char.isdigit())\n",
    "    if number_count < 1 :\n",
    "        return \"Invalid Password\"\n",
    "    \n",
    "    special_count = sum(1 for char in password if not char.isalnum())\n",
    "    if special_count < 3 :\n",
    "        return \"Invalid Password\"\n",
    "    \n",
    "    return \"Valid Password\"\n",
    "        \n",
    "    \n",
    "    "
   ]
  },
  {
   "cell_type": "code",
   "execution_count": 32,
   "id": "b293a514-22de-4556-a9f4-787a199aa9bf",
   "metadata": {},
   "outputs": [
    {
     "name": "stdin",
     "output_type": "stream",
     "text": [
      "enter password FI@@@za1233\n"
     ]
    },
    {
     "name": "stdout",
     "output_type": "stream",
     "text": [
      "Invalid Password\n"
     ]
    }
   ],
   "source": [
    "password = input(\"enter password\")\n",
    "result = check_password(password)\n",
    "print(result)"
   ]
  },
  {
   "cell_type": "code",
   "execution_count": 44,
   "id": "a4a21916-c65c-4273-ae0a-b6b7a4f528de",
   "metadata": {},
   "outputs": [],
   "source": [
    "l  = [\"Faiz\" , \"Aamu\" , \"Apple\" , \"Makvana\" , \"Args\"]\n",
    "letter = 'A'"
   ]
  },
  {
   "cell_type": "code",
   "execution_count": 45,
   "id": "8680c27c-ffe3-4b91-abed-8fe3ffe8c5c1",
   "metadata": {},
   "outputs": [
    {
     "data": {
      "text/plain": [
       "[False, True, True, False, True]"
      ]
     },
     "execution_count": 45,
     "metadata": {},
     "output_type": "execute_result"
    }
   ],
   "source": [
    "list(map(lambda l : l.startswith(letter) , l))"
   ]
  },
  {
   "cell_type": "code",
   "execution_count": 54,
   "id": "65937970-e3db-4191-945c-20366b0a706e",
   "metadata": {},
   "outputs": [],
   "source": [
    "l  = [\"123\" , \"124.032\" , \"46454\" , \"faiz\"]"
   ]
  },
  {
   "cell_type": "code",
   "execution_count": 58,
   "id": "7ad9d2cc-9c2d-4d0f-8b6b-60a29f761b25",
   "metadata": {},
   "outputs": [
    {
     "data": {
      "text/plain": [
       "[True, False, True, False]"
      ]
     },
     "execution_count": 58,
     "metadata": {},
     "output_type": "execute_result"
    }
   ],
   "source": [
    "list(map(lambda  s : s.isdigit() , l))"
   ]
  },
  {
   "cell_type": "code",
   "execution_count": 1,
   "id": "59b7aad6-d2c3-4329-bb4a-05cab4d76128",
   "metadata": {},
   "outputs": [],
   "source": [
    "s= [(\"mango\",99),(\"orange\",80), (\"grapes\", 1000)]"
   ]
  },
  {
   "cell_type": "code",
   "execution_count": 7,
   "id": "7d3e1a27-3f0f-4fd2-bf2c-5ac8ab381a0a",
   "metadata": {},
   "outputs": [
    {
     "data": {
      "text/plain": [
       "[('orange', 80), ('mango', 99), ('grapes', 1000)]"
      ]
     },
     "execution_count": 7,
     "metadata": {},
     "output_type": "execute_result"
    }
   ],
   "source": [
    "sorted(s , key=lambda x : x[1])"
   ]
  },
  {
   "cell_type": "code",
   "execution_count": 8,
   "id": "21c0656c-e8c5-499f-a3b1-006c4b31df27",
   "metadata": {},
   "outputs": [],
   "source": [
    "a = range(1,11)"
   ]
  },
  {
   "cell_type": "code",
   "execution_count": 11,
   "id": "2fb5f6a9-5a73-4ac1-95ca-c31a995dd107",
   "metadata": {},
   "outputs": [
    {
     "data": {
      "text/plain": [
       "[1, 4, 9, 16, 25, 36, 49, 64, 81, 100]"
      ]
     },
     "execution_count": 11,
     "metadata": {},
     "output_type": "execute_result"
    }
   ],
   "source": [
    "list(map(lambda x : x**2 , a))"
   ]
  },
  {
   "cell_type": "code",
   "execution_count": 2,
   "id": "e817e325-fde2-4c8d-810d-4b6126a63790",
   "metadata": {},
   "outputs": [
    {
     "data": {
      "text/plain": [
       "[1.0,\n",
       " 1.2599210498948732,\n",
       " 1.4422495703074083,\n",
       " 1.5874010519681994,\n",
       " 1.7099759466766968,\n",
       " 1.8171205928321397,\n",
       " 1.912931182772389,\n",
       " 2.0,\n",
       " 2.080083823051904,\n",
       " 2.154434690031884]"
      ]
     },
     "execution_count": 2,
     "metadata": {},
     "output_type": "execute_result"
    }
   ],
   "source": [
    "list(map(lambda x : x**(1/3) , range(1 ,11)))"
   ]
  },
  {
   "cell_type": "code",
   "execution_count": 4,
   "id": "699548c5-aecc-4d55-86ee-83d0764fa395",
   "metadata": {},
   "outputs": [],
   "source": [
    "a = [1,2,3,4,5,6,7,8,9]"
   ]
  },
  {
   "cell_type": "code",
   "execution_count": 5,
   "id": "e547ef90-6eda-442d-bda3-ae01f607b6e7",
   "metadata": {},
   "outputs": [
    {
     "data": {
      "text/plain": [
       "[False, True, False, True, False, True, False, True, False]"
      ]
     },
     "execution_count": 5,
     "metadata": {},
     "output_type": "execute_result"
    }
   ],
   "source": [
    "list(map(lambda x : x%2 == 0 , a))"
   ]
  },
  {
   "cell_type": "code",
   "execution_count": 7,
   "id": "ad5c5e06-eecf-4d55-8c68-922ce70c63b5",
   "metadata": {},
   "outputs": [],
   "source": [
    "s = [1,2,3,4,5,6,7,8,9,10]"
   ]
  },
  {
   "cell_type": "code",
   "execution_count": 9,
   "id": "c7ed80e1-c3a5-4383-8c8f-5fdd8bdb96a1",
   "metadata": {},
   "outputs": [
    {
     "data": {
      "text/plain": [
       "[1, 3, 5, 7, 9]"
      ]
     },
     "execution_count": 9,
     "metadata": {},
     "output_type": "execute_result"
    }
   ],
   "source": [
    "list(filter(lambda x : x%2 != 0 , s))"
   ]
  },
  {
   "cell_type": "code",
   "execution_count": 6,
   "id": "afa392d5-2bf3-43a9-9b18-3d2dbda21ca2",
   "metadata": {},
   "outputs": [],
   "source": [
    "s = [1,2,3,4,5,6,-1,-2,-3,-4,-5,0]\n",
    "positive_num = [sorted(list(filter(lambda x : x>=0 , s)))]\n",
    "negative_num = [list(filter(lambda x : x<0 ,s))]\n",
    "\n",
    "\n"
   ]
  },
  {
   "cell_type": "code",
   "execution_count": 7,
   "id": "0d3f5c86-3b4b-4b12-ac58-a2cdcdbc7b93",
   "metadata": {},
   "outputs": [
    {
     "data": {
      "text/plain": [
       "[[0, 1, 2, 3, 4, 5, 6]]"
      ]
     },
     "execution_count": 7,
     "metadata": {},
     "output_type": "execute_result"
    }
   ],
   "source": [
    "positive_num"
   ]
  },
  {
   "cell_type": "code",
   "execution_count": null,
   "id": "2a7193a0-896c-4059-ad73-03c370cffa66",
   "metadata": {},
   "outputs": [],
   "source": []
  }
 ],
 "metadata": {
  "kernelspec": {
   "display_name": "Python 3 (ipykernel)",
   "language": "python",
   "name": "python3"
  },
  "language_info": {
   "codemirror_mode": {
    "name": "ipython",
    "version": 3
   },
   "file_extension": ".py",
   "mimetype": "text/x-python",
   "name": "python",
   "nbconvert_exporter": "python",
   "pygments_lexer": "ipython3",
   "version": "3.10.8"
  }
 },
 "nbformat": 4,
 "nbformat_minor": 5
}
