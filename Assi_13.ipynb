{
 "cells": [
  {
   "cell_type": "markdown",
   "id": "034e7470-c814-4ecd-b23f-eee07b737394",
   "metadata": {},
   "source": [
    "Question :1\n",
    "\n",
    "\n",
    "A database is a structured collection of data that is organized and stored in a computer system. It is designed to efficiently store, retrieve, and manage large amounts of information.\n",
    "\n",
    "Differences between SQL and no SQL are :\n",
    "\n",
    "1. SQL databases use a structured data model, organizing data into tables with predefined schemas. NoSQL databases use various data models such as key-value pairs, documents, columnar, or graph-based models\n",
    "\n",
    "2. SQL databases use the Structured Query Language (SQL) for data manipulation ,NoSQL databases often have their own query languages or APIs specific to their data models. "
   ]
  },
  {
   "cell_type": "markdown",
   "id": "2193b65d-13da-409d-bb94-52bdef8052fd",
   "metadata": {},
   "source": [
    "Question :- 2\n",
    "\n",
    "DDL stands for Data Definition Language. It is a subset of SQL (Structured Query Language) used to define and manage the structure of a database\n",
    "\n",
    "CREATE: The CREATE statement is used to create new database objects."
   ]
  },
  {
   "cell_type": "markdown",
   "id": "c832f208-c08d-42a1-88d8-4c4d4717225d",
   "metadata": {},
   "source": [
    "CREATE DATABASE test"
   ]
  },
  {
   "cell_type": "markdown",
   "id": "9a100703-0a44-4506-b627-799e0489488b",
   "metadata": {},
   "source": [
    "DROP: The DROP statement is used to remove or delete database objects. It permanently deletes the specified object from the database.\n",
    "\n",
    "DROP c1 "
   ]
  },
  {
   "cell_type": "markdown",
   "id": "8dc04335-72db-43ce-ba11-7ad2fc90b59e",
   "metadata": {},
   "source": [
    "ALTER: The ALTER statement is used to modify the structure of existing database objects. It allows you to add, modify, or delete columns, constraints, and other properties of database objects. \n",
    "\n",
    "ALTER TABLE test_table \n",
    "ADD column c5 INT"
   ]
  },
  {
   "cell_type": "markdown",
   "id": "9089868c-7aff-4731-b76b-af7b7ba8dde1",
   "metadata": {},
   "source": [
    "TRUNCATE: The TRUNCATE statement is used to remove all data from a table, effectively resetting it to its original structure.\n",
    "\n",
    "TRUNCATE TABLE test_table"
   ]
  },
  {
   "cell_type": "raw",
   "id": "9a374961-1bcb-45ee-912f-0b74f9d827bc",
   "metadata": {},
   "source": [
    "\n",
    "DML stands for Data Manipulation Language. It is a subset of SQL (Structured Query Language) used to manipulate and modify the data stored in a database\n",
    "\n",
    "INSERT: The INSERT statement is used to insert new data records into a table. \n",
    "\n",
    "mydb = mysql.connector.connect(\n",
    "    host = \"localhost\",\n",
    "    user =\"abc\",\n",
    "    password = \"password\"\n",
    ")\n",
    "\n",
    "mycursor = mydb.cursor()\n",
    "mycursor.execute(\"insert into test2.test_table values (123, 12.25 , 'faiz' , 451, 'aamu')\")"
   ]
  },
  {
   "cell_type": "markdown",
   "id": "9e866632-9327-4a6f-85a6-dee3bf8f2872",
   "metadata": {},
   "source": [
    "UPDATE: The UPDATE statement is used to modify existing data records within a table.\n",
    "\n",
    "UPDATE Employees\n",
    "SET Salary = 6000.00"
   ]
  },
  {
   "cell_type": "raw",
   "id": "556a21a7-5407-4f8a-af92-fc44e037c70d",
   "metadata": {},
   "source": [
    "DELETE: The DELETE statement is used to remove specific data records from a table based on certain conditions.\n",
    "\n",
    "DELETE FROM Employees\n",
    "WHERE EmployeeID = 1;\n"
   ]
  },
  {
   "cell_type": "markdown",
   "id": "24a6ca21-2b7f-4773-801f-f78468c66a90",
   "metadata": {},
   "source": [
    "Question :- 4\n",
    "\n",
    "\n",
    "DQL stands for Data Query Language. It is a subset of SQL (Structured Query Language) used to retrieve or query data from a database. DQL statements are primarily focused on retrieving specific data records or sets of data that meet certain criteria"
   ]
  },
  {
   "cell_type": "raw",
   "id": "94aecf58-a747-4278-bd61-4d469d30cf34",
   "metadata": {},
   "source": [
    "SELECT: The SELECT statement is used to retrieve data from one or more tables in a database.\n",
    "\n",
    "SELECT EmployeeID, Name, Department\n",
    "FROM Employees\n",
    "WHERE Department = 'HR';\n"
   ]
  },
  {
   "cell_type": "markdown",
   "id": "224cf1a3-6c67-4b65-8b87-240f65e699a7",
   "metadata": {},
   "source": [
    "Question :- 5\n",
    "\n",
    "\n",
    "Primary Key:\n",
    "\n",
    "A primary key is a unique identifier for each record in a database table. It uniquely identifies a row and ensures that no two rows have the same key value.\n",
    "\n",
    "1.Every primary key value within a table must be unique. No two records can have the same primary key value.\n",
    "\n",
    "2.Primary key values cannot be NULL. Each record must have a valid and non-null primary key value."
   ]
  },
  {
   "cell_type": "markdown",
   "id": "e36a6a14-f63d-4489-a943-554396ef31ef",
   "metadata": {},
   "source": [
    "Foreign Key:\n",
    "\n",
    "A foreign key establishes a relationship between two tables in a relational database. It represents a column or a set of columns in one table that refers to the primary key in another table. \n",
    "\n",
    "1. A foreign key establishes a relationship between two tables based on their primary key and foreign key columns.\n",
    "\n",
    "2.  The foreign key relationship typically represents a many-to-one relationship between tables, where multiple records in the referencing table can refer to a single record in the referenced table."
   ]
  },
  {
   "cell_type": "raw",
   "id": "95bc6978-c8bb-4efd-9c17-bef0869b46fa",
   "metadata": {},
   "source": [
    "Question :- 6\n",
    "\n",
    "import mysql.connector \n",
    "mydb = mysql.conneector.connect(\n",
    "\n",
    "HOST = \"localhost\",\n",
    "user = \"ABC\",\n",
    "passsword = \"FAIZ@123\"\n",
    ")\n",
    "print(mydb)\n",
    "mycursor = mydb.cursor()\n",
    "mycursor.execute(\"SHOWDATABASE\")\n",
    "mydb.close()\n",
    "\n",
    "\n"
   ]
  },
  {
   "cell_type": "markdown",
   "id": "58777f66-65a0-4e8b-8a1a-4e30ee509a22",
   "metadata": {},
   "source": [
    "1. cursor(): The cursor() method creates a cursor object that allows you to execute SQL queries and fetch the results. "
   ]
  },
  {
   "cell_type": "markdown",
   "id": "095a167b-c6d9-44ce-bf94-06653864d576",
   "metadata": {},
   "source": [
    "2. execute(): The execute() method is used to execute an SQL query or command."
   ]
  },
  {
   "cell_type": "markdown",
   "id": "4198a062-b89a-47e4-a2c9-c057a8788c16",
   "metadata": {},
   "source": [
    "\n",
    "In an SQL query, the clauses are generally executed in the following order:\n",
    "\n",
    "FROM: The FROM clause specifies the table(s) from which the data will be retrieved. It identifies the source table(s) involved in the query.\n",
    "\n",
    "WHERE: The WHERE clause filters the data based on specified conditions. It is used to define criteria that determine which records will be included in the result set."
   ]
  },
  {
   "cell_type": "code",
   "execution_count": null,
   "id": "75a9a1cd-4fe4-4021-aa1d-4b600e848f86",
   "metadata": {},
   "outputs": [],
   "source": []
  }
 ],
 "metadata": {
  "kernelspec": {
   "display_name": "Python 3 (ipykernel)",
   "language": "python",
   "name": "python3"
  },
  "language_info": {
   "codemirror_mode": {
    "name": "ipython",
    "version": 3
   },
   "file_extension": ".py",
   "mimetype": "text/x-python",
   "name": "python",
   "nbconvert_exporter": "python",
   "pygments_lexer": "ipython3",
   "version": "3.10.8"
  }
 },
 "nbformat": 4,
 "nbformat_minor": 5
}
