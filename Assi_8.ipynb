{
 "cells": [
  {
   "cell_type": "code",
   "execution_count": 1,
   "id": "cd1ab4db-52b8-41d4-bdc0-68ebc504ca1c",
   "metadata": {},
   "outputs": [],
   "source": [
    "class vehicle :\n",
    "    \n",
    "    def __init__(self, name , max_speed , average_vehicle ) :\n",
    "        self.__name = name \n",
    "        self.__max_speed = max_speed\n",
    "        self.__average_vehicle = average_vehicle\n",
    "        \n",
    "    def display_info (self):\n",
    "        return self.__name , self.__max_speed , self.__average_vehicle\n",
    "        \n",
    "        "
   ]
  },
  {
   "cell_type": "code",
   "execution_count": 2,
   "id": "31a60041-9716-4b3f-87f2-6a7ce762c753",
   "metadata": {},
   "outputs": [],
   "source": [
    "Car = vehicle(\"Fortuner\" , 280 , 10)"
   ]
  },
  {
   "cell_type": "code",
   "execution_count": 3,
   "id": "cffb025f-39db-4709-b9e6-9edf6caadd32",
   "metadata": {},
   "outputs": [
    {
     "data": {
      "text/plain": [
       "('Fortuner', 280, 10)"
      ]
     },
     "execution_count": 3,
     "metadata": {},
     "output_type": "execute_result"
    }
   ],
   "source": [
    "Car.display_info()"
   ]
  },
  {
   "cell_type": "code",
   "execution_count": 11,
   "id": "992bc239-185e-4226-804f-ad8ea7e634f5",
   "metadata": {},
   "outputs": [],
   "source": [
    "class car(vehicle) :\n",
    "    \n",
    "    def __init__(self , name , seating_capacity):\n",
    "        self.__name = name\n",
    "        self.__seating_capacity = seating_capacity\n",
    "        \n",
    "    def car_details(self) :\n",
    "        return self.__name , self.__seating_capacity"
   ]
  },
  {
   "cell_type": "code",
   "execution_count": 12,
   "id": "ae683143-2b42-4fc5-8a27-c167f95f2fa6",
   "metadata": {},
   "outputs": [],
   "source": [
    "test = car('Fortuner',7)"
   ]
  },
  {
   "cell_type": "code",
   "execution_count": 13,
   "id": "65ed8e8d-f8df-465b-bd89-632883ddb0d4",
   "metadata": {},
   "outputs": [
    {
     "data": {
      "text/plain": [
       "('Fortuner', 7)"
      ]
     },
     "execution_count": 13,
     "metadata": {},
     "output_type": "execute_result"
    }
   ],
   "source": [
    "test.car_details()"
   ]
  },
  {
   "cell_type": "markdown",
   "id": "a3b7adc4-2c53-4a8f-a8ed-deda6b1bfa01",
   "metadata": {},
   "source": [
    "Question :- 3\n",
    "\n",
    "Multiple inheritance is a feature in object-oriented programming where a class can inherit attributes and methods from multiple parent classes. This allows a class to inherit and combine the characteristics and behaviors of multiple classes.\n"
   ]
  },
  {
   "cell_type": "code",
   "execution_count": 20,
   "id": "911ab847-5c70-4cf0-b9e1-44aacc3e3c2c",
   "metadata": {
    "scrolled": true,
    "tags": []
   },
   "outputs": [],
   "source": [
    "class Employee :\n",
    "    \n",
    "    def __init__(self, name , salary):\n",
    "        self.name = name\n",
    "        self.salary = salary\n",
    "        \n",
    "    def calculate_salary(self):\n",
    "        return self.salary\n",
    "\n",
    "    \n",
    "class Manager(Employee):\n",
    "    \n",
    "    def __init__(self, name ,salary , department):\n",
    "        super().__init__(name , salary)\n",
    "        self.department = department\n",
    "        \n",
    "    def calculate_salary (self) :\n",
    "        return self.salary*1.2\n",
    "    \n",
    "        \n",
    "    \n",
    "\n",
    "        "
   ]
  },
  {
   "cell_type": "code",
   "execution_count": 18,
   "id": "5ca2c1a4-f979-460e-aa24-378dd092156e",
   "metadata": {},
   "outputs": [],
   "source": [
    "employee = Employee('Aamu' , 1212)"
   ]
  },
  {
   "cell_type": "code",
   "execution_count": 19,
   "id": "a3b786e4-e0d4-48ed-ac62-92f1edd4ddb7",
   "metadata": {},
   "outputs": [
    {
     "data": {
      "text/plain": [
       "1212"
      ]
     },
     "execution_count": 19,
     "metadata": {},
     "output_type": "execute_result"
    }
   ],
   "source": [
    "employee.calculate_salary()"
   ]
  },
  {
   "cell_type": "code",
   "execution_count": 21,
   "id": "ed6b0c19-4b63-476b-98bf-d17de58fa683",
   "metadata": {},
   "outputs": [],
   "source": [
    "manager = Manager('aamu' , 120000 , Manager)"
   ]
  },
  {
   "cell_type": "code",
   "execution_count": 22,
   "id": "33822983-1b33-416a-b72e-69deeb0ed7e1",
   "metadata": {},
   "outputs": [
    {
     "data": {
      "text/plain": [
       "144000.0"
      ]
     },
     "execution_count": 22,
     "metadata": {},
     "output_type": "execute_result"
    }
   ],
   "source": [
    "manager.calculate_salary()"
   ]
  },
  {
   "cell_type": "markdown",
   "id": "50ff1ad3-9d46-49c9-90c1-2090378885e0",
   "metadata": {},
   "source": [
    "Question :- 4\n",
    "\n",
    "\n",
    "In Python, getters and setters are methods used to access and modify the values of class attributes, respectively. They provide a way to encapsulate the access and modification of attribute values within a class, allowing for better control and data validation."
   ]
  },
  {
   "cell_type": "code",
   "execution_count": 3,
   "id": "c3ffcfe1-63c8-490e-8175-eb9d3fb77eba",
   "metadata": {},
   "outputs": [],
   "source": [
    "class Person :\n",
    "    \n",
    "    def __init__(self , name , age):\n",
    "        self.__name = name\n",
    "        self.__age = age\n",
    "        \n",
    "        \n",
    "    def get_name (self) :\n",
    "        return self.__name\n",
    "    \n",
    "    def set_name(self,name) :\n",
    "        self.__name = name\n",
    "    \n",
    "    def get_age(self) :\n",
    "        return self.__age\n",
    "    \n",
    "    def set_Age(self , age):\n",
    "        self.__age = age\n",
    "    "
   ]
  },
  {
   "cell_type": "code",
   "execution_count": 5,
   "id": "a68fa94d-a9b7-44e8-b1ef-d7eb2506d75a",
   "metadata": {},
   "outputs": [],
   "source": [
    "person = Person(\"aamu\" , 19)"
   ]
  },
  {
   "cell_type": "code",
   "execution_count": 6,
   "id": "565f1566-3a2c-4826-b9da-d28ad498cf75",
   "metadata": {},
   "outputs": [
    {
     "data": {
      "text/plain": [
       "'aamu'"
      ]
     },
     "execution_count": 6,
     "metadata": {},
     "output_type": "execute_result"
    }
   ],
   "source": [
    "person.get_name()"
   ]
  },
  {
   "cell_type": "markdown",
   "id": "215dfc69-5194-4498-9f1a-727f20b4cd37",
   "metadata": {},
   "source": [
    "Question :- 5\n",
    "\n",
    "\n",
    "Method overriding in Python is a feature of object-oriented programming where a subclass provides a different implementation of a method that is already defined in its parent class. This allows the subclass to redefine the behavior of the method according to its specific needs.\n",
    "\n"
   ]
  },
  {
   "cell_type": "code",
   "execution_count": 12,
   "id": "5f83dc72-ac41-4bde-9994-743f79ea3463",
   "metadata": {},
   "outputs": [],
   "source": [
    "class animal :\n",
    "    def speak(self) :\n",
    "        return(\"animal speak\")\n",
    "        \n",
    "class cat(animal) :\n",
    "    def speak(self):\n",
    "        print(\"Meows!\")\n",
    "    \n",
    "    \n",
    "class dog(animal):\n",
    "    def speak(self):\n",
    "        print(\"dog barks\")\n",
    "        \n"
   ]
  },
  {
   "cell_type": "code",
   "execution_count": 15,
   "id": "72b56f75-6cf2-4b63-8eee-d1c6ccf17c46",
   "metadata": {},
   "outputs": [],
   "source": [
    "Animal = animal()\n",
    "Cat = cat()\n",
    "Dog = dog()\n"
   ]
  },
  {
   "cell_type": "code",
   "execution_count": 16,
   "id": "60cc604b-bf47-4264-849d-aae4d9480725",
   "metadata": {},
   "outputs": [
    {
     "name": "stdout",
     "output_type": "stream",
     "text": [
      "Meows!\n",
      "dog barks\n"
     ]
    }
   ],
   "source": [
    "Animal.speak()\n",
    "Cat.speak()\n",
    "Dog.speak()"
   ]
  },
  {
   "cell_type": "code",
   "execution_count": null,
   "id": "2320ed69-cfe1-430b-88a6-427364bc0cbc",
   "metadata": {},
   "outputs": [],
   "source": []
  }
 ],
 "metadata": {
  "kernelspec": {
   "display_name": "Python 3 (ipykernel)",
   "language": "python",
   "name": "python3"
  },
  "language_info": {
   "codemirror_mode": {
    "name": "ipython",
    "version": 3
   },
   "file_extension": ".py",
   "mimetype": "text/x-python",
   "name": "python",
   "nbconvert_exporter": "python",
   "pygments_lexer": "ipython3",
   "version": "3.10.8"
  }
 },
 "nbformat": 4,
 "nbformat_minor": 5
}
