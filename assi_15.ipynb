{
 "cells": [
  {
   "cell_type": "markdown",
   "id": "c6e0e9b1-24ce-4dc5-8e8a-c0deb3617036",
   "metadata": {},
   "source": [
    "Question :- 1 \n",
    "\n",
    "An API, or Application Programming Interface, is a set of rules and protocols that allows different software applications to communicate and interact with each other. It defines the methods and data formats that developers can use to request and exchange information between different software systems or components.\n",
    "\n",
    "Platforms like Facebook, Twitter, and Instagram provide APIs that allow developers to build applications or services that can interact with their platforms."
   ]
  },
  {
   "cell_type": "markdown",
   "id": "ed7fbced-aecb-43a4-bc6a-feeacc26d618",
   "metadata": {},
   "source": [
    "Question :- 2\n",
    "\n",
    "Advantages of API :\n",
    "\n",
    "\n",
    "1. APIs allow developers to leverage pre-existing functionalities and services, saving time and effort in building everything from scratch.\n",
    "\n",
    "2. APIs provide a standardized way for different software systems to communicate and interact with each other.\n",
    "\n",
    "3. By using APIs, developers can expand the capabilities of their own applications by integrating external services and features. "
   ]
  },
  {
   "cell_type": "markdown",
   "id": "cf065364-9797-4ce1-a9f7-3eaa75d6bb7b",
   "metadata": {},
   "source": [
    "Disadvantages of API :\n",
    "    \n",
    "1. When an application relies heavily on external APIs, it becomes dependent on the availability, reliability, and performance of those APIs\n",
    "\n",
    "2. When using an API, you are essentially relying on a third-party service or platform. This means that you have limited control over the API's functionalities, updates, and changes. \n",
    "\n",
    "3. APIs can have a learning curve, especially when dealing with complex or poorly documented APIs.\n"
   ]
  },
  {
   "cell_type": "markdown",
   "id": "e74dd81b-139a-4e85-99e5-15229048c015",
   "metadata": {},
   "source": [
    "Question  :- 3 \n",
    "\n",
    "WEB API :-\n",
    "\n",
    "A Web API, or Web Application Programming Interface, is a type of API that specifically uses HTTP protocols to enable communication and interaction between different software systems over the web. It provides a set of rules and protocols for building web services and allows clients (such as web browsers or mobile apps) to interact with a server or web application."
   ]
  },
  {
   "cell_type": "markdown",
   "id": "0496a0db-ab02-4a05-a229-e7d714113bea",
   "metadata": {},
   "source": [
    "Here's a differentiation between API and Web API:\n",
    "\n",
    "API (Application Programming Interface):\n",
    "\n",
    "1. An API, in a general sense, refers to a set of rules and protocols that allow software applications to communicate and interact with each other.\n",
    "\n",
    "2. APIs can exist in various forms, including libraries, frameworks, or protocols, and are not limited to web-based communication.\n",
    "\n",
    "Web API (Web Application Programming Interface):\n",
    "\n",
    "1. A Web API specifically refers to an API that is designed to enable communication and interaction between web-based systems, using HTTP protocols.\n",
    "\n",
    "2. Web APIs are typically used for building web services that provide access to specific functionalities or data over the web."
   ]
  },
  {
   "cell_type": "markdown",
   "id": "dbdf0a24-9d36-4872-83d0-ee1b302e964b",
   "metadata": {},
   "source": [
    "Question :- 4\n",
    "\n",
    "REST (Representational State Transfer) and SOAP (Simple Object Access Protocol) are architectural styles used for designing web services. "
   ]
  },
  {
   "cell_type": "markdown",
   "id": "b85d074a-6b3a-439c-9d3b-47966c83adb9",
   "metadata": {},
   "source": [
    "REST (Representational State Transfer):\n",
    "\n",
    "1. REST is an architectural style that emphasizes a stateless, client-server communication model over the web.\n",
    "\n",
    "2. It is based on a set of principles, including the use of standard HTTP methods (GET, POST, PUT, DELETE) for data manipulation, stateless communication, and resource-based URLs.\n",
    "\n",
    "SOAP (Simple Object Access Protocol):\n",
    "\n",
    "1. SOAP is an XML-based messaging protocol used for exchanging structured information between web services.\n",
    "2. SOAP is more complex and heavyweight compared to REST. It defines a set of rules for constructing messages, including the use of XML for message structure and WS-Addressing for endpoint addressing."
   ]
  },
  {
   "cell_type": "markdown",
   "id": "e12cde19-ffb2-4840-9444-58459f47cce1",
   "metadata": {},
   "source": [
    "Question :- 5\n",
    "\n",
    "1. Communication Style:\n",
    "\n",
    "REST: REST is based on a stateless, client-server communication model over the web. It emphasizes the use of standard HTTP methods (GET, POST, PUT, DELETE) for data manipulation and follows resource-based URLs (Uniform Resource Locators).\n",
    "\n",
    "SOAP: SOAP is a messaging protocol that defines a strict set of rules for constructing messages and exchanging structured information between web services. It uses XML for message structure and can operate over various protocols, not limited to HTTP.\n",
    "\n",
    "2. Message Format:\n",
    "\n",
    "REST: REST APIs commonly use lightweight and widely supported data formats like JSON (JavaScript Object Notation) or XML (eXtensible Markup Language) for message payload. \n",
    "\n",
    "SOAP: SOAP messages are XML-based, which makes them more verbose and heavier compared to REST.\n",
    "\n",
    "3. "
   ]
  },
  {
   "cell_type": "code",
   "execution_count": null,
   "id": "d1ae8e4e-fd0e-4f41-b9b8-11f7fae8e494",
   "metadata": {},
   "outputs": [],
   "source": []
  }
 ],
 "metadata": {
  "kernelspec": {
   "display_name": "Python 3 (ipykernel)",
   "language": "python",
   "name": "python3"
  },
  "language_info": {
   "codemirror_mode": {
    "name": "ipython",
    "version": 3
   },
   "file_extension": ".py",
   "mimetype": "text/x-python",
   "name": "python",
   "nbconvert_exporter": "python",
   "pygments_lexer": "ipython3",
   "version": "3.10.8"
  }
 },
 "nbformat": 4,
 "nbformat_minor": 5
}
