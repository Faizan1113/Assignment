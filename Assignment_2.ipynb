{
 "cells": [
  {
   "cell_type": "code",
   "execution_count": 1,
   "id": "b8fcb04f-1fb4-43ed-bb4a-04068d3b0dfb",
   "metadata": {},
   "outputs": [],
   "source": [
    "# def keyword is used to create a function"
   ]
  },
  {
   "cell_type": "code",
   "execution_count": 2,
   "id": "766f8161-58f6-455e-b062-6f0c16fe6e67",
   "metadata": {},
   "outputs": [],
   "source": [
    "def odd_number():\n",
    "    odd_numbers = []\n",
    "    for i in range(1,101) :\n",
    "        if i % 2 != 0 :\n",
    "            odd_numbers.append(i)\n",
    "    return odd_numbers\n",
    "            "
   ]
  },
  {
   "cell_type": "code",
   "execution_count": 3,
   "id": "eceafb31-c279-4e1e-a384-21867abb3780",
   "metadata": {},
   "outputs": [
    {
     "data": {
      "text/plain": [
       "[1,\n",
       " 3,\n",
       " 5,\n",
       " 7,\n",
       " 9,\n",
       " 11,\n",
       " 13,\n",
       " 15,\n",
       " 17,\n",
       " 19,\n",
       " 21,\n",
       " 23,\n",
       " 25,\n",
       " 27,\n",
       " 29,\n",
       " 31,\n",
       " 33,\n",
       " 35,\n",
       " 37,\n",
       " 39,\n",
       " 41,\n",
       " 43,\n",
       " 45,\n",
       " 47,\n",
       " 49,\n",
       " 51,\n",
       " 53,\n",
       " 55,\n",
       " 57,\n",
       " 59,\n",
       " 61,\n",
       " 63,\n",
       " 65,\n",
       " 67,\n",
       " 69,\n",
       " 71,\n",
       " 73,\n",
       " 75,\n",
       " 77,\n",
       " 79,\n",
       " 81,\n",
       " 83,\n",
       " 85,\n",
       " 87,\n",
       " 89,\n",
       " 91,\n",
       " 93,\n",
       " 95,\n",
       " 97,\n",
       " 99]"
      ]
     },
     "execution_count": 3,
     "metadata": {},
     "output_type": "execute_result"
    }
   ],
   "source": [
    "odd_number()"
   ]
  },
  {
   "cell_type": "code",
   "execution_count": 4,
   "id": "b5cc51f0-4a3f-41b2-af6f-0af2e9d6b01a",
   "metadata": {},
   "outputs": [],
   "source": [
    "# In a function we used *args to print n number of data that wse want \n",
    "# to execute data in the form of  a dictionary i.e. : \" key : value \" , we use **kwargs in a function"
   ]
  },
  {
   "cell_type": "code",
   "execution_count": 5,
   "id": "32a1b57e-1532-4364-af0d-722c141573b0",
   "metadata": {},
   "outputs": [],
   "source": [
    "def string(*args) :\n",
    "    return args"
   ]
  },
  {
   "cell_type": "code",
   "execution_count": 6,
   "id": "2099fc19-5900-4356-88ee-c902acad96a2",
   "metadata": {},
   "outputs": [
    {
     "data": {
      "text/plain": [
       "('Faiz', 12, 124, 255, 25.36, 'Aamu', [1, 2, 3, 4, 5], 'pwskiils')"
      ]
     },
     "execution_count": 6,
     "metadata": {},
     "output_type": "execute_result"
    }
   ],
   "source": [
    "string(\"Faiz\" , 12,124,255,25.36,\"Aamu\" , [1,2,3,4,5] , \"pwskiils\")"
   ]
  },
  {
   "cell_type": "code",
   "execution_count": 7,
   "id": "b5668aeb-3b12-46b4-834e-5ea104ba3c3a",
   "metadata": {},
   "outputs": [],
   "source": [
    "## **kwargs"
   ]
  },
  {
   "cell_type": "code",
   "execution_count": 8,
   "id": "15ccc012-fa29-40eb-a0c1-b864d1b649c5",
   "metadata": {},
   "outputs": [],
   "source": [
    "def name(**kwargs) :\n",
    "    return kwargs"
   ]
  },
  {
   "cell_type": "code",
   "execution_count": 9,
   "id": "f72ea6c7-8d70-4835-8571-039798596ff7",
   "metadata": {},
   "outputs": [
    {
     "data": {
      "text/plain": [
       "{'course': 'Data science', 'mentor': 'Sudhanshu kumar', 'mode': 'online'}"
      ]
     },
     "execution_count": 9,
     "metadata": {},
     "output_type": "execute_result"
    }
   ],
   "source": [
    "name(course  = \"Data science\" , mentor = \"Sudhanshu kumar\" , mode = \"online\")"
   ]
  },
  {
   "cell_type": "code",
   "execution_count": 10,
   "id": "cd6a4a25-0405-4659-8bec-80c0fbf1a3eb",
   "metadata": {},
   "outputs": [],
   "source": [
    "## Question 3"
   ]
  },
  {
   "cell_type": "markdown",
   "id": "41c16ed2-06da-42c5-b4b8-60a81fd93a57",
   "metadata": {},
   "source": [
    "In Python, an iterator is an object that allows you to iterate over collections of data, such as lists, tuples, \n",
    "dictionaries, and sets. To initialize the iterator object we can use 'iter()' functon  "
   ]
  },
  {
   "cell_type": "code",
   "execution_count": 12,
   "id": "eb063a36-90a5-4b98-8526-b955524c218a",
   "metadata": {},
   "outputs": [],
   "source": [
    "list = [2, 4, 6, 8, 10, 12, 14,16, 18, 20]"
   ]
  },
  {
   "cell_type": "code",
   "execution_count": 15,
   "id": "d358050e-abde-408c-b860-1f6fa809f940",
   "metadata": {},
   "outputs": [],
   "source": [
    "iterator_list = iter(list)"
   ]
  },
  {
   "cell_type": "code",
   "execution_count": 19,
   "id": "30348a2f-875e-4682-a289-841e0d3aa2f2",
   "metadata": {},
   "outputs": [
    {
     "name": "stdout",
     "output_type": "stream",
     "text": [
      "2\n",
      "4\n",
      "6\n",
      "8\n",
      "10\n"
     ]
    }
   ],
   "source": [
    "iterator_list = iter(list)\n",
    "for i in range(5) :\n",
    "    num = next (iterator_list)\n",
    "    print(num)\n",
    "\n",
    "    "
   ]
  },
  {
   "cell_type": "code",
   "execution_count": 20,
   "id": "fbc9c0e6-a795-474e-9cbf-8412d600e784",
   "metadata": {},
   "outputs": [],
   "source": [
    "# Question 4"
   ]
  },
  {
   "cell_type": "markdown",
   "id": "ae228114-2591-4f29-bf85-31c1a8b6b78b",
   "metadata": {},
   "source": [
    "Generator function is special type of function in python that uses \"yield\" keyword instead of \"return\" keyword to produce a sequence of values,\n",
    "In generator function 'yield' keyword is used to define points at which the generator  function should pause its execution and yield a value to the caller."
   ]
  },
  {
   "cell_type": "code",
   "execution_count": 8,
   "id": "2681ae65-f6f4-4efc-897d-0b4b3de7d50c",
   "metadata": {},
   "outputs": [],
   "source": [
    "def generator_fun (n):\n",
    "    i = 0\n",
    "    while i <= n :\n",
    "        yield i\n",
    "        \n",
    "        i +=1\n",
    " \n",
    "    \n",
    "\n",
    "    \n",
    "    "
   ]
  },
  {
   "cell_type": "code",
   "execution_count": null,
   "id": "fd5969b8-0412-4fa4-9141-e40f91ff7a86",
   "metadata": {},
   "outputs": [
    {
     "name": "stdout",
     "output_type": "stream",
     "text": [
      "0\n",
      "1\n",
      "2\n",
      "3\n",
      "4\n",
      "5\n"
     ]
    }
   ],
   "source": [
    "for i in  generator_fun(5) :\n",
    "        print(i)"
   ]
  },
  {
   "cell_type": "code",
   "execution_count": 19,
   "id": "094763fd-893e-4af9-9938-26061bbf0c6d",
   "metadata": {},
   "outputs": [
    {
     "name": "stdout",
     "output_type": "stream",
     "text": [
      "2\n",
      "3\n",
      "5\n",
      "7\n",
      "11\n",
      "13\n",
      "17\n",
      "19\n",
      "23\n",
      "29\n",
      "31\n",
      "37\n",
      "41\n",
      "43\n",
      "47\n",
      "53\n",
      "59\n",
      "61\n",
      "67\n",
      "71\n"
     ]
    }
   ],
   "source": [
    "def prime_generator():\n",
    "    primes = []\n",
    "    num = 2\n",
    "    while num < 1000:\n",
    "        is_prime = True\n",
    "        for prime in primes:\n",
    "            if num % prime == 0:\n",
    "                is_prime = False\n",
    "                break\n",
    "        if is_prime:\n",
    "            primes.append(num)\n",
    "            yield num\n",
    "        num += 1\n",
    "\n",
    "\n",
    "prime_gen = prime_generator()\n",
    "\n",
    "\n",
    "for _ in range(20):\n",
    "    prime = next(prime_gen)\n",
    "    print(prime)\n"
   ]
  },
  {
   "cell_type": "code",
   "execution_count": 20,
   "id": "fe02108a-3438-4871-bd00-aab5dacc05a1",
   "metadata": {},
   "outputs": [],
   "source": [
    "# question 6"
   ]
  },
  {
   "cell_type": "code",
   "execution_count": 22,
   "id": "9849bdc2-0498-44fa-aea1-d678fff62383",
   "metadata": {},
   "outputs": [
    {
     "name": "stdin",
     "output_type": "stream",
     "text": [
      "enter your number of element that you are looking for  10\n"
     ]
    },
    {
     "name": "stdout",
     "output_type": "stream",
     "text": [
      "0\n",
      "1\n",
      "1\n",
      "2\n",
      "3\n",
      "5\n",
      "8\n",
      "13\n",
      "21\n",
      "34\n"
     ]
    }
   ],
   "source": [
    "n = int(input(\"enter your number of element that you are looking for \"))\n",
    "a,b = 0 , 1\n",
    "counter  = 0\n",
    "            \n",
    "while counter < n :\n",
    "              print(a)\n",
    "              c = a + b\n",
    "              a = b\n",
    "            b = c\n",
    "              counter = counter + 1\n",
    "        \n",
    "              \n"
   ]
  },
  {
   "cell_type": "code",
   "execution_count": 23,
   "id": "67080611-8715-4185-9cb0-711d26c3d507",
   "metadata": {},
   "outputs": [],
   "source": [
    "#QUESTION 7"
   ]
  },
  {
   "cell_type": "code",
   "execution_count": 24,
   "id": "54a571ec-3577-4e03-8ca7-9b9f056ba2b5",
   "metadata": {},
   "outputs": [],
   "source": [
    "l = \"pwskills\""
   ]
  },
  {
   "cell_type": "code",
   "execution_count": 28,
   "id": "4d0221bf-d152-4651-9984-4e8c6f04617c",
   "metadata": {},
   "outputs": [
    {
     "data": {
      "text/plain": [
       "[['p'], ['w'], ['s'], ['k'], ['i'], ['l'], ['l'], ['s']]"
      ]
     },
     "execution_count": 28,
     "metadata": {},
     "output_type": "execute_result"
    }
   ],
   "source": [
    "[ list(i)for i in l]"
   ]
  },
  {
   "cell_type": "code",
   "execution_count": 4,
   "id": "d4f57ee5-9cb0-458c-9dfb-1aef61507158",
   "metadata": {},
   "outputs": [],
   "source": [
    "#Question 8"
   ]
  },
  {
   "cell_type": "code",
   "execution_count": 1,
   "id": "60a09020-f58c-497e-9cc6-f8aff4c4a729",
   "metadata": {},
   "outputs": [],
   "source": [
    "def is_palindrome (number) :\n",
    "    original_number = number\n",
    "    reverse_number = 0\n",
    "    while number > 0 :\n",
    "        digit = number % 10\n",
    "        reverse_number = (reverse_number * 10) + digit\n",
    "        number = number //10\n",
    "    if original_number == reverse_number :\n",
    "        return True\n",
    "    else :\n",
    "        return False\n",
    "\n",
    "\n",
    "    \n",
    "    "
   ]
  },
  {
   "cell_type": "code",
   "execution_count": 3,
   "id": "3fe75427-7620-4d21-90b0-f53d06a0c6ca",
   "metadata": {},
   "outputs": [
    {
     "name": "stdin",
     "output_type": "stream",
     "text": [
      "Enter a number:  151\n"
     ]
    },
    {
     "name": "stdout",
     "output_type": "stream",
     "text": [
      "num is a palindrome\n"
     ]
    }
   ],
   "source": [
    "num = int(input(\"Enter a number: \"))\n",
    "if is_palindrome(num):\n",
    "    print(\"num is a palindrome\")\n",
    "else:\n",
    "    print(\"num is not a palindrome\")"
   ]
  },
  {
   "cell_type": "code",
   "execution_count": 5,
   "id": "b0966475-b6b4-4e7e-b3d1-7cd0dfd097cc",
   "metadata": {},
   "outputs": [],
   "source": [
    "#Question 9"
   ]
  },
  {
   "cell_type": "code",
   "execution_count": 18,
   "id": "a77d469a-8805-4a1a-88ca-d45e314fbbaa",
   "metadata": {},
   "outputs": [
    {
     "data": {
      "text/plain": [
       "[1,\n",
       " 2,\n",
       " 3,\n",
       " 4,\n",
       " 5,\n",
       " 6,\n",
       " 7,\n",
       " 8,\n",
       " 9,\n",
       " 10,\n",
       " 11,\n",
       " 12,\n",
       " 13,\n",
       " 14,\n",
       " 15,\n",
       " 16,\n",
       " 17,\n",
       " 18,\n",
       " 19,\n",
       " 20,\n",
       " 21,\n",
       " 22,\n",
       " 23,\n",
       " 24,\n",
       " 25,\n",
       " 26,\n",
       " 27,\n",
       " 28,\n",
       " 29,\n",
       " 30,\n",
       " 31,\n",
       " 32,\n",
       " 33,\n",
       " 34,\n",
       " 35,\n",
       " 36,\n",
       " 37,\n",
       " 38,\n",
       " 39,\n",
       " 40,\n",
       " 41,\n",
       " 42,\n",
       " 43,\n",
       " 44,\n",
       " 45,\n",
       " 46,\n",
       " 47,\n",
       " 48,\n",
       " 49,\n",
       " 50,\n",
       " 51,\n",
       " 52,\n",
       " 53,\n",
       " 54,\n",
       " 55,\n",
       " 56,\n",
       " 57,\n",
       " 58,\n",
       " 59,\n",
       " 60,\n",
       " 61,\n",
       " 62,\n",
       " 63,\n",
       " 64,\n",
       " 65,\n",
       " 66,\n",
       " 67,\n",
       " 68,\n",
       " 69,\n",
       " 70,\n",
       " 71,\n",
       " 72,\n",
       " 73,\n",
       " 74,\n",
       " 75,\n",
       " 76,\n",
       " 77,\n",
       " 78,\n",
       " 79,\n",
       " 80,\n",
       " 81,\n",
       " 82,\n",
       " 83,\n",
       " 84,\n",
       " 85,\n",
       " 86,\n",
       " 87,\n",
       " 88,\n",
       " 89,\n",
       " 90,\n",
       " 91,\n",
       " 92,\n",
       " 93,\n",
       " 94,\n",
       " 95,\n",
       " 96,\n",
       " 97,\n",
       " 98,\n",
       " 99,\n",
       " 100]"
      ]
     },
     "execution_count": 18,
     "metadata": {},
     "output_type": "execute_result"
    }
   ],
   "source": [
    "[i for i in range(1,101)]"
   ]
  },
  {
   "cell_type": "code",
   "execution_count": 15,
   "id": "05d6ff4a-46ef-41d2-b05c-35aa86a0d452",
   "metadata": {},
   "outputs": [
    {
     "data": {
      "text/plain": [
       "[1,\n",
       " 3,\n",
       " 5,\n",
       " 7,\n",
       " 9,\n",
       " 11,\n",
       " 13,\n",
       " 15,\n",
       " 17,\n",
       " 19,\n",
       " 21,\n",
       " 23,\n",
       " 25,\n",
       " 27,\n",
       " 29,\n",
       " 31,\n",
       " 33,\n",
       " 35,\n",
       " 37,\n",
       " 39,\n",
       " 41,\n",
       " 43,\n",
       " 45,\n",
       " 47,\n",
       " 49,\n",
       " 51,\n",
       " 53,\n",
       " 55,\n",
       " 57,\n",
       " 59,\n",
       " 61,\n",
       " 63,\n",
       " 65,\n",
       " 67,\n",
       " 69,\n",
       " 71,\n",
       " 73,\n",
       " 75,\n",
       " 77,\n",
       " 79,\n",
       " 81,\n",
       " 83,\n",
       " 85,\n",
       " 87,\n",
       " 89,\n",
       " 91,\n",
       " 93,\n",
       " 95,\n",
       " 97,\n",
       " 99]"
      ]
     },
     "execution_count": 15,
     "metadata": {},
     "output_type": "execute_result"
    }
   ],
   "source": [
    "[ i   for i in range(1,101) if i % 2 != 0 ]"
   ]
  },
  {
   "cell_type": "code",
   "execution_count": null,
   "id": "04dc8fdd-caf3-4548-9680-d5a8e9d82502",
   "metadata": {},
   "outputs": [],
   "source": []
  }
 ],
 "metadata": {
  "kernelspec": {
   "display_name": "Python 3 (ipykernel)",
   "language": "python",
   "name": "python3"
  },
  "language_info": {
   "codemirror_mode": {
    "name": "ipython",
    "version": 3
   },
   "file_extension": ".py",
   "mimetype": "text/x-python",
   "name": "python",
   "nbconvert_exporter": "python",
   "pygments_lexer": "ipython3",
   "version": "3.10.8"
  }
 },
 "nbformat": 4,
 "nbformat_minor": 5
}
