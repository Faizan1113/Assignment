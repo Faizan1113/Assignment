{
 "cells": [
  {
   "cell_type": "markdown",
   "id": "a2901fb8-eaaf-4c5e-b1d2-e4f08ded3a69",
   "metadata": {},
   "source": [
    "Question :- 1"
   ]
  },
  {
   "cell_type": "markdown",
   "id": "388d61f1-2e98-4f6e-8cdd-7493f5f65200",
   "metadata": {},
   "source": [
    "\n",
    "In Python, abstraction is a programming concept that allows you to hide complex implementation details and only expose the essential features or behaviors of an object or a class. It focuses on creating simplified and user-friendly interfaces while keeping the underlying implementation hidden."
   ]
  },
  {
   "cell_type": "code",
   "execution_count": 2,
   "id": "5133e16f-5f47-45a8-a2ad-edf4ca50b651",
   "metadata": {},
   "outputs": [],
   "source": [
    "import abc\n",
    "class animal :\n",
    "    \n",
    "    @abc.abstractmethod\n",
    "    def eat(self) :\n",
    "        pass\n",
    "    \n",
    "    @abc.abstractmethod\n",
    "    def make_sound(self):\n",
    "        pass\n",
    "    "
   ]
  },
  {
   "cell_type": "code",
   "execution_count": 16,
   "id": "b65770e8-8864-46dd-a474-4dd1081bce91",
   "metadata": {},
   "outputs": [],
   "source": [
    "class dog(animal):\n",
    "    \n",
    "    def eat(self):\n",
    "        print (\"The dog is eating with enthusiasm\")\n",
    "    \n",
    "    def make_sound(self):\n",
    "        print (\"Woof! Woof!\")\n",
    "    \n",
    "    \n",
    "        "
   ]
  },
  {
   "cell_type": "code",
   "execution_count": 17,
   "id": "9e1deac4-147a-4d0a-bca1-9057de399832",
   "metadata": {},
   "outputs": [],
   "source": [
    "class cat(animal):\n",
    "    \n",
    "    def eat(self):\n",
    "        print (\"the cat is delicately eating its food\")\n",
    "    \n",
    "    def make_sound(self):\n",
    "        print (\"Meow! Meow!\")"
   ]
  },
  {
   "cell_type": "code",
   "execution_count": 18,
   "id": "eb3d514b-527c-41d6-ac5d-8f26609c3204",
   "metadata": {},
   "outputs": [],
   "source": [
    "def animal_behaviour(animal) :\n",
    "        animal.eat()\n",
    "        animal.make_sound()"
   ]
  },
  {
   "cell_type": "code",
   "execution_count": 19,
   "id": "81eb8d27-299a-4e48-82c0-58c291236ea3",
   "metadata": {},
   "outputs": [],
   "source": [
    "Dog = dog()\n",
    "Cat = cat()"
   ]
  },
  {
   "cell_type": "code",
   "execution_count": 20,
   "id": "fadf027f-4758-4b34-95cf-940125b35073",
   "metadata": {},
   "outputs": [
    {
     "name": "stdout",
     "output_type": "stream",
     "text": [
      "The dog is eating with enthusiasm\n",
      "Woof! Woof!\n"
     ]
    }
   ],
   "source": [
    "animal_behaviour(Dog)"
   ]
  },
  {
   "cell_type": "markdown",
   "id": "b9a641c7-4fc8-4226-bcad-0a699d2b82d4",
   "metadata": {},
   "source": [
    "Question :- 2"
   ]
  },
  {
   "cell_type": "markdown",
   "id": "f5a92f54-a627-41a0-9681-8054c2e0e90e",
   "metadata": {},
   "source": [
    "ABSTRACTION :- Abstraction focuses on presenting the essential features and behaviors of an object while hiding the complex implementation details. It allows us to work with high-level concepts and models rather than dealing with low-level details. Abstraction helps in managing complexity and makes the code more maintainable and easier to understand.\n",
    "\n",
    "consider a Vehicle class hierarchy that includes subclasses like Car, Motorcycle, and Truck. Each vehicle has common attributes like speed and fuel_capacity, as well as methods like start(), accelerate(), and stop(). To abstract the concept of a vehicle, you could create an abstract base class called Vehicle with the common attributes and abstract methods like start() and accelerate(). The subclasses would then inherit from the Vehicle class and provide their own implementations of the abstract methods. This abstraction allows users to interact with any vehicle object using a common interface, regardless of the specific type of vehicle.\n",
    "\n",
    "Encapsulation : Encapsulation, on the other hand, is about bundling related data and methods into a single unit, called a class. It ensures that the internal state and implementation details of an object are hidden and can only be accessed through a well-defined interface. Encapsulation helps in data hiding, information security, and modularity.\n",
    "\n",
    "Consider a BankAccount class that represents a bank account object. It may have attributes like account_number, balance, and owner_name, as well as methods like deposit(), withdraw(), and get_balance(). Encapsulation can be achieved by making the attributes private (e.g., _account_number, _balance, _owner_name) and providing public methods (e.g., deposit(), withdraw(), get_balance()) to interact with and manipulate the internal data. This encapsulation protects the internal state of the bank account, preventing direct access to the attributes and enforcing controlled interactions through the defined methods."
   ]
  },
  {
   "cell_type": "markdown",
   "id": "7cc073c8-4d3f-404f-b51d-fedb51050b52",
   "metadata": {},
   "source": [
    "Question :- 3"
   ]
  },
  {
   "cell_type": "markdown",
   "id": "8d7809c7-fbf2-4653-a966-f88c79913f2b",
   "metadata": {},
   "source": [
    "The abc module in Python stands for \"Abstract Base Classes.\" It provides the infrastructure for creating abstract classes in Python. Abstract classes are classes that cannot be instantiated directly but serve as blueprints for other classes. They define a common interface and behavior that the derived classes must implement.\n",
    "\n"
   ]
  },
  {
   "cell_type": "markdown",
   "id": "e1ebadea-ea2c-4fdd-8729-3890b6452997",
   "metadata": {},
   "source": [
    "It's used in oops because the abc module and abstract base classes provide a powerful mechanism for code organization, enforcing contracts, and promoting code reuse and extensibility. They help in designing robust class hierarchies and facilitate the development of more structured and maintainable code."
   ]
  },
  {
   "cell_type": "markdown",
   "id": "73e0c1f8-03db-4b0a-a027-624a6e1cfdf0",
   "metadata": {},
   "source": [
    "Question :- 4\n",
    "\n",
    "We can achieve data abstraction by using  the abstract key word for classes and inheriting them by later "
   ]
  },
  {
   "cell_type": "code",
   "execution_count": null,
   "id": "b2d322d1-a57b-4c8a-904e-5acc54529765",
   "metadata": {},
   "outputs": [],
   "source": [
    "can we create "
   ]
  }
 ],
 "metadata": {
  "kernelspec": {
   "display_name": "Python 3 (ipykernel)",
   "language": "python",
   "name": "python3"
  },
  "language_info": {
   "codemirror_mode": {
    "name": "ipython",
    "version": 3
   },
   "file_extension": ".py",
   "mimetype": "text/x-python",
   "name": "python",
   "nbconvert_exporter": "python",
   "pygments_lexer": "ipython3",
   "version": "3.10.8"
  }
 },
 "nbformat": 4,
 "nbformat_minor": 5
}
