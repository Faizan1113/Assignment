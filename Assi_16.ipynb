{
 "cells": [
  {
   "cell_type": "markdown",
   "id": "b89112c8-7a83-48e4-8db0-fd18b9aa1cae",
   "metadata": {},
   "source": [
    "Question :- 1\n",
    "\n",
    "\n",
    "Flask is a micro web framework written in Python. It is designed to be lightweight, simple, and easy to use while providing the necessary features for building web applications. \n",
    "\n",
    "\n",
    "Advantages :-\n",
    "\n",
    "Flask is designed to be minimalistic and follows the \"micro\" philosophy. \n",
    "\n",
    "Flask has a straightforward and intuitive API, making it easy to learn and get started with web development.\n",
    "\n",
    "Flask provides a modular design that allows developers to extend its functionalities through various third-party extensions. \n",
    "Flask comes with a built-in development server that enables you to test and run your application easily without the need for additional setup. \n"
   ]
  },
  {
   "cell_type": "markdown",
   "id": "6e84dca5-877e-4e1c-9c68-8c51ffa1117f",
   "metadata": {},
   "source": [
    "Question :- 2"
   ]
  },
  {
   "cell_type": "code",
   "execution_count": 6,
   "id": "e30d8a3b-35d5-4fc3-b44e-6a2eb753cbf4",
   "metadata": {},
   "outputs": [
    {
     "name": "stdout",
     "output_type": "stream",
     "text": [
      "Collecting flask\n",
      "  Downloading Flask-2.3.2-py3-none-any.whl (96 kB)\n",
      "\u001b[2K     \u001b[90m━━━━━━━━━━━━━━━━━━━━━━━━━━━━━━━━━━━━━━━━\u001b[0m \u001b[32m96.9/96.9 kB\u001b[0m \u001b[31m4.7 MB/s\u001b[0m eta \u001b[36m0:00:00\u001b[0m\n",
      "\u001b[?25hCollecting Werkzeug>=2.3.3\n",
      "  Downloading Werkzeug-2.3.6-py3-none-any.whl (242 kB)\n",
      "\u001b[2K     \u001b[90m━━━━━━━━━━━━━━━━━━━━━━━━━━━━━━━━━━━━━━\u001b[0m \u001b[32m242.5/242.5 kB\u001b[0m \u001b[31m11.6 MB/s\u001b[0m eta \u001b[36m0:00:00\u001b[0m\n",
      "\u001b[?25hRequirement already satisfied: Jinja2>=3.1.2 in /opt/conda/lib/python3.10/site-packages (from flask) (3.1.2)\n",
      "Requirement already satisfied: click>=8.1.3 in /opt/conda/lib/python3.10/site-packages (from flask) (8.1.3)\n",
      "Collecting blinker>=1.6.2\n",
      "  Downloading blinker-1.6.2-py3-none-any.whl (13 kB)\n",
      "Collecting itsdangerous>=2.1.2\n",
      "  Downloading itsdangerous-2.1.2-py3-none-any.whl (15 kB)\n",
      "Requirement already satisfied: MarkupSafe>=2.0 in /opt/conda/lib/python3.10/site-packages (from Jinja2>=3.1.2->flask) (2.1.1)\n",
      "Installing collected packages: Werkzeug, itsdangerous, blinker, flask\n",
      "  Attempting uninstall: blinker\n",
      "    Found existing installation: blinker 1.5\n",
      "    Uninstalling blinker-1.5:\n",
      "      Successfully uninstalled blinker-1.5\n",
      "Successfully installed Werkzeug-2.3.6 blinker-1.6.2 flask-2.3.2 itsdangerous-2.1.2\n",
      "Note: you may need to restart the kernel to use updated packages.\n"
     ]
    }
   ],
   "source": [
    "pip install flask\n"
   ]
  },
  {
   "cell_type": "code",
   "execution_count": 13,
   "id": "0a9fa278-c9f6-434d-b31a-e312d33a104c",
   "metadata": {},
   "outputs": [],
   "source": [
    "try :\n",
    "    import logging\n",
    "    logging.basicConfig(filename = \"Assi_16.log\" , level = logging.INFO )\n",
    "    from flask import Flask\n",
    "    logging.info(\"we have imported Flask from flask\")\n",
    "    app  = Flask(__name__)\n",
    "    logging.info(\"we are making app object for flask name\")\n",
    "    \n",
    "    logging.info(\"here we define the route and give the path to access the code \")\n",
    "    @app.route(\"/hey\")\n",
    "    \n",
    "\n",
    "    def test():\n",
    "        logging.info(\"this is test function to print the hello world to the outer world\")\n",
    "        return \" Hello World !! \"\n",
    "\n",
    "    if __name__ ==\" __main__\" :\n",
    "        app.run(host=\"0.0.0.0\")\n",
    "        logging.info(\"here we used dunder function and we are hosting this code in our local system \")\n",
    "\n",
    "    \n",
    "except :\n",
    "    print(\"code is having error\")\n",
    "    logging.info(\"this is our except block that will be execute if above code will nott execute successfully itself\")\n",
    "\n"
   ]
  },
  {
   "cell_type": "markdown",
   "id": "0483dd7d-6411-4880-9969-5dc24d79573c",
   "metadata": {},
   "source": [
    "Question :- 3\n",
    "\n",
    "In Flask, app routing refers to the process of mapping URL patterns to specific functions or views in your application. It allows you to define how different URLs or routes should be handled by your Flask application.\n",
    "\n",
    "The main purpose of app routes in Flask is to determine what content or action should be displayed or executed when a user visits a specific URL. By defining routes, you can control the behavior of your application based on the requested URL."
   ]
  },
  {
   "cell_type": "markdown",
   "id": "d8db9765-8a65-4c44-ab37-819593d0e7db",
   "metadata": {},
   "source": [
    "Question :- 4"
   ]
  },
  {
   "cell_type": "code",
   "execution_count": 23,
   "id": "192818f0-fa03-4c71-a239-00e742f24c23",
   "metadata": {},
   "outputs": [
    {
     "name": "stdout",
     "output_type": "stream",
     "text": [
      "Requirement already satisfied: flask in /opt/conda/lib/python3.10/site-packages (2.3.2)\n",
      "Requirement already satisfied: blinker>=1.6.2 in /opt/conda/lib/python3.10/site-packages (from flask) (1.6.2)\n",
      "Requirement already satisfied: Jinja2>=3.1.2 in /opt/conda/lib/python3.10/site-packages (from flask) (3.1.2)\n",
      "Requirement already satisfied: click>=8.1.3 in /opt/conda/lib/python3.10/site-packages (from flask) (8.1.3)\n",
      "Requirement already satisfied: Werkzeug>=2.3.3 in /opt/conda/lib/python3.10/site-packages (from flask) (2.3.6)\n",
      "Requirement already satisfied: itsdangerous>=2.1.2 in /opt/conda/lib/python3.10/site-packages (from flask) (2.1.2)\n",
      "Requirement already satisfied: MarkupSafe>=2.0 in /opt/conda/lib/python3.10/site-packages (from Jinja2>=3.1.2->flask) (2.1.1)\n",
      "Note: you may need to restart the kernel to use updated packages.\n"
     ]
    }
   ],
   "source": [
    "pip install flask \n"
   ]
  },
  {
   "cell_type": "code",
   "execution_count": 2,
   "id": "e4208d17-36db-46b4-be80-3827f3674d5f",
   "metadata": {},
   "outputs": [],
   "source": [
    "\n",
    "    import logging\n",
    "    logging.basicConfig(filename = \"Assi_16.log\" , level = logging.INFO )\n",
    "    from flask import Flask\n",
    "    logging.info(\"we have imported Flask from flask\")\n",
    "    app  = Flask(__name__)\n",
    "    logging.info(\"we are making app object for flask name\")\n",
    "    \n",
    "    logging.info(\"here we define the route and give the path to access the code \")\n",
    "    @app.route(\"/welcome\")\n",
    "    \n",
    "\n",
    "    def world():\n",
    "        logging.info(\"this is test function to print the hello world to the outer world\")\n",
    "        return \" Welcome to ABC Corporation \"\n",
    "    \n",
    "    @app.route(\"/\")\n",
    "    def world1 ():\n",
    "        return \"\"\"Company Name: ABC Corporation,\n",
    "               Location: India,\n",
    "               Contact Detail: 999-999-9999\"\"\"\n",
    "\n",
    "    if __name__ ==\" __main__\" :\n",
    "        app.run(host=\"0.0.0.0\")\n",
    "        logging.info(\"here we used dunder function and we are hosting this code in our local system \")\n",
    "\n",
    "    \n",
    "\n"
   ]
  },
  {
   "cell_type": "markdown",
   "id": "833a1621-b860-4b7a-99a2-61ce8741e443",
   "metadata": {},
   "source": [
    "Question :- 5\n",
    "\n",
    "In Flask, the url_for() function is used for URL building. It generates a URL for a given endpoint (view function) by using the URL rules defined in the application routes. This function abstracts the URL creation process, making it easier to maintain and update URLs throughout the application."
   ]
  },
  {
   "cell_type": "code",
   "execution_count": 1,
   "id": "0adaa37e-2134-4fb1-bbb2-f15fbded93ec",
   "metadata": {},
   "outputs": [
    {
     "name": "stdout",
     "output_type": "stream",
     "text": [
      "Requirement already satisfied: flask in /opt/conda/lib/python3.10/site-packages (2.3.2)\n",
      "Requirement already satisfied: blinker>=1.6.2 in /opt/conda/lib/python3.10/site-packages (from flask) (1.6.2)\n",
      "Requirement already satisfied: Jinja2>=3.1.2 in /opt/conda/lib/python3.10/site-packages (from flask) (3.1.2)\n",
      "Requirement already satisfied: itsdangerous>=2.1.2 in /opt/conda/lib/python3.10/site-packages (from flask) (2.1.2)\n",
      "Requirement already satisfied: Werkzeug>=2.3.3 in /opt/conda/lib/python3.10/site-packages (from flask) (2.3.6)\n",
      "Requirement already satisfied: click>=8.1.3 in /opt/conda/lib/python3.10/site-packages (from flask) (8.1.3)\n",
      "Requirement already satisfied: MarkupSafe>=2.0 in /opt/conda/lib/python3.10/site-packages (from Jinja2>=3.1.2->flask) (2.1.1)\n",
      "Note: you may need to restart the kernel to use updated packages.\n"
     ]
    }
   ],
   "source": [
    "pip install flask\n"
   ]
  },
  {
   "cell_type": "code",
   "execution_count": 1,
   "id": "fc3f5b2c-4908-4a83-bb1c-5d120054c914",
   "metadata": {},
   "outputs": [],
   "source": [
    "\n",
    "from flask import Flask , url_for"
   ]
  },
  {
   "cell_type": "code",
   "execution_count": null,
   "id": "f9423484-4646-4955-b8f2-e33c6bf755c5",
   "metadata": {},
   "outputs": [
    {
     "name": "stdout",
     "output_type": "stream",
     "text": [
      " * Serving Flask app '__main__'\n",
      " * Debug mode: off\n"
     ]
    },
    {
     "name": "stderr",
     "output_type": "stream",
     "text": [
      "WARNING: This is a development server. Do not use it in a production deployment. Use a production WSGI server instead.\n",
      " * Running on http://127.0.0.1:5000\n",
      "Press CTRL+C to quit\n"
     ]
    }
   ],
   "source": [
    "app = Flask(__name__)\n",
    "\n",
    "@app.route('/')\n",
    "def index():\n",
    "    return 'This is the index page.'\n",
    "\n",
    "@app.route('/about')\n",
    "def about():\n",
    "    return 'This is the about page.'\n",
    "\n",
    "@app.route('/contact')\n",
    "def contact():\n",
    "    return 'This is the contact page.'\n",
    "\n",
    "@app.route('/generate_urls')\n",
    "def generate_urls():\n",
    "    index_url = url_for('index')\n",
    "    about_url = url_for('about')\n",
    "    contact_url = url_for('contact')\n",
    "    \n",
    "    return f'<p>Index URL: {index_url}</p><p>About URL: {about_url}</p><p>Contact URL: {contact_url}</p>'\n",
    "if __name__ == '__main__':\n",
    "    app.run()\n"
   ]
  },
  {
   "cell_type": "code",
   "execution_count": null,
   "id": "852cf0a9-6141-4723-841e-f5c2733955c8",
   "metadata": {},
   "outputs": [],
   "source": []
  }
 ],
 "metadata": {
  "kernelspec": {
   "display_name": "Python 3 (ipykernel)",
   "language": "python",
   "name": "python3"
  },
  "language_info": {
   "codemirror_mode": {
    "name": "ipython",
    "version": 3
   },
   "file_extension": ".py",
   "mimetype": "text/x-python",
   "name": "python",
   "nbconvert_exporter": "python",
   "pygments_lexer": "ipython3",
   "version": "3.10.8"
  }
 },
 "nbformat": 4,
 "nbformat_minor": 5
}
