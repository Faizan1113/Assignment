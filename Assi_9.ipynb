{
 "cells": [
  {
   "cell_type": "raw",
   "id": "5569887c-e1d5-419d-92b5-444aa79946ef",
   "metadata": {},
   "source": [
    " Question :- 1\n",
    " \n",
    " Open() function is used to open a file.\n",
    " \n",
    " r - open a file for reading\n",
    " w - open a file for writing\n",
    " x - open a file for exclusive creation \n",
    " a - open a fle for apending at the end of the fille without truncating it\n",
    " t - open in text model\n",
    " b - open in binary mode\n",
    " + - open a afile for updating\n",
    " \n",
    " "
   ]
  },
  {
   "cell_type": "markdown",
   "id": "3016f2d6-da7e-413b-abdd-0b24530d9d2f",
   "metadata": {},
   "source": [
    "Question :- 2\n",
    "\n",
    "close() method closes an opend file . We sholud always closes our files because in some cases ,  due to buffering , changes made to a file may not show until you close the file . "
   ]
  },
  {
   "cell_type": "markdown",
   "id": "c42f7e28-6897-4460-8785-929f7d625dff",
   "metadata": {},
   "source": [
    "Question :- 3"
   ]
  },
  {
   "cell_type": "code",
   "execution_count": 1,
   "id": "271a6cdb-2f07-42f1-8a11-6cf8cf609900",
   "metadata": {},
   "outputs": [],
   "source": [
    "f = open('pwskills.txt', 'w')"
   ]
  },
  {
   "cell_type": "code",
   "execution_count": 2,
   "id": "40ee5dd9-615b-4599-bb5d-1871cd7f8ecb",
   "metadata": {},
   "outputs": [
    {
     "data": {
      "text/plain": [
       "34"
      ]
     },
     "execution_count": 2,
     "metadata": {},
     "output_type": "execute_result"
    }
   ],
   "source": [
    "f.write(\"I  want to become a data scientist\")"
   ]
  },
  {
   "cell_type": "code",
   "execution_count": 3,
   "id": "0b3309cf-694b-449a-b765-86a382bed7b1",
   "metadata": {},
   "outputs": [
    {
     "data": {
      "text/plain": [
       "54"
      ]
     },
     "execution_count": 3,
     "metadata": {},
     "output_type": "execute_result"
    }
   ],
   "source": [
    "f.write(\"I am pursuing Data science master course from PWSKILLS\")"
   ]
  },
  {
   "cell_type": "code",
   "execution_count": 18,
   "id": "5eb1b0bf-cd6f-4cc6-9bd2-6ac8a6594452",
   "metadata": {},
   "outputs": [],
   "source": [
    "f.close()"
   ]
  },
  {
   "cell_type": "code",
   "execution_count": 27,
   "id": "e02ecaad-6725-46a7-a552-03061410f823",
   "metadata": {},
   "outputs": [],
   "source": [
    "f = open(\"pwskills.txt\", 'r')"
   ]
  },
  {
   "cell_type": "code",
   "execution_count": 26,
   "id": "1ffdfd57-6ff9-43d5-b144-a64d847fb9dd",
   "metadata": {},
   "outputs": [
    {
     "data": {
      "text/plain": [
       "<function TextIOWrapper.read(size=-1, /)>"
      ]
     },
     "execution_count": 26,
     "metadata": {},
     "output_type": "execute_result"
    }
   ],
   "source": [
    "f.read"
   ]
  },
  {
   "cell_type": "markdown",
   "id": "716787da-9acf-47a0-af61-ab85febf421c",
   "metadata": {},
   "source": [
    "Question :- 4\n",
    "\n",
    "\n",
    "Read :- read method reads single line from file  and returns it as a string\n",
    "\n",
    "Readline :- Readline method read the line from the file and in returns it gives an empty string , but to\n",
    "            read the content we use seek function and gives 0 as argument after using the seek function ,               readline methods will give first line as output \n",
    "\n",
    "Readlines :- Readlines method read content from the file and then return whole content in string as output\n"
   ]
  },
  {
   "cell_type": "code",
   "execution_count": 28,
   "id": "d9998fdb-8ed6-4f1c-93a7-a029ee37c12a",
   "metadata": {},
   "outputs": [
    {
     "data": {
      "text/plain": [
       "'I  want to become a data scientistI am pursuing Data science master course from PWSKILLS'"
      ]
     },
     "execution_count": 28,
     "metadata": {},
     "output_type": "execute_result"
    }
   ],
   "source": [
    "f.read()"
   ]
  },
  {
   "cell_type": "code",
   "execution_count": 10,
   "id": "bae02267-6298-4f52-90b5-50bb04965e13",
   "metadata": {},
   "outputs": [
    {
     "data": {
      "text/plain": [
       "''"
      ]
     },
     "execution_count": 10,
     "metadata": {},
     "output_type": "execute_result"
    }
   ],
   "source": [
    "f.readline()"
   ]
  },
  {
   "cell_type": "code",
   "execution_count": 11,
   "id": "65e4d7de-7a25-4f81-873e-7be66e2cb7e0",
   "metadata": {},
   "outputs": [
    {
     "data": {
      "text/plain": [
       "0"
      ]
     },
     "execution_count": 11,
     "metadata": {},
     "output_type": "execute_result"
    }
   ],
   "source": [
    "f.seek(0)"
   ]
  },
  {
   "cell_type": "code",
   "execution_count": 12,
   "id": "c854585a-d49a-45f3-80dc-d40673ad576a",
   "metadata": {},
   "outputs": [
    {
     "data": {
      "text/plain": [
       "'I  want to become a data scientistI am pursuing Data science master course from PWSKILLS'"
      ]
     },
     "execution_count": 12,
     "metadata": {},
     "output_type": "execute_result"
    }
   ],
   "source": [
    "f.readline()"
   ]
  },
  {
   "cell_type": "code",
   "execution_count": 13,
   "id": "ca758f53-089f-43c6-89bb-8bd1295826be",
   "metadata": {},
   "outputs": [
    {
     "data": {
      "text/plain": [
       "[]"
      ]
     },
     "execution_count": 13,
     "metadata": {},
     "output_type": "execute_result"
    }
   ],
   "source": [
    "f.readlines()"
   ]
  },
  {
   "cell_type": "markdown",
   "id": "5f863940-06a7-4688-8915-d8fb4f069206",
   "metadata": {},
   "source": [
    "Question : 5\n",
    "\n",
    "\n",
    "The with statement works with the open() function to open a file. Unlike open() where you have to close the file with the close() method, the with statement closes the file for you without you telling it to."
   ]
  },
  {
   "cell_type": "markdown",
   "id": "1475b9a9-05c8-4cad-9bd2-46310db5f632",
   "metadata": {},
   "source": [
    "Question :- 6\n",
    "\n",
    "The write() function is used to write a single string of data to a file. It takes a string as its argument and appends it to the end of the file. If the file does not exist, it will be created. If the file already exists, the write() function will overwrite the existing content with the new string."
   ]
  },
  {
   "cell_type": "code",
   "execution_count": 33,
   "id": "6db07165-ff8f-4547-8269-d077f49da46e",
   "metadata": {},
   "outputs": [],
   "source": [
    "f = open(\"pwskills.txt\", 'w')"
   ]
  },
  {
   "cell_type": "code",
   "execution_count": 34,
   "id": "7607228b-f56a-4ae3-88ef-0cc51485a408",
   "metadata": {},
   "outputs": [
    {
     "data": {
      "text/plain": [
       "74"
      ]
     },
     "execution_count": 34,
     "metadata": {},
     "output_type": "execute_result"
    }
   ],
   "source": [
    "f.write(\"it will append the str at the end of the content which is inside the file \")"
   ]
  },
  {
   "cell_type": "markdown",
   "id": "1b437521-a89b-4f0d-bf69-b127186be2dc",
   "metadata": {},
   "source": [
    "The writelines() function, on the other hand, is used to write multiple strings to a file. It takes an iterable (such as a list or tuple) of strings as its argument and writes each string as a separate line to the file. Similar to the write() function, the writelines() method also overwrites the existing content of the file."
   ]
  },
  {
   "cell_type": "code",
   "execution_count": 37,
   "id": "2ad504f4-c623-485a-b6f9-35a224b709b4",
   "metadata": {},
   "outputs": [],
   "source": [
    "lines = (\"data science masters/n\" ,\"Web_dev/n\" ,\"java/n\")"
   ]
  },
  {
   "cell_type": "code",
   "execution_count": 39,
   "id": "43e1fb90-8532-4fe3-9692-43e7aea9f1bb",
   "metadata": {},
   "outputs": [],
   "source": [
    "f.writelines(lines)"
   ]
  },
  {
   "cell_type": "code",
   "execution_count": 40,
   "id": "ba1394cd-152b-4970-80dd-6ed975a6d2bf",
   "metadata": {},
   "outputs": [],
   "source": [
    "f.close()"
   ]
  },
  {
   "cell_type": "code",
   "execution_count": null,
   "id": "a802d103-c51c-4fbc-b6bb-84e9fa09750c",
   "metadata": {},
   "outputs": [],
   "source": []
  }
 ],
 "metadata": {
  "kernelspec": {
   "display_name": "Python 3 (ipykernel)",
   "language": "python",
   "name": "python3"
  },
  "language_info": {
   "codemirror_mode": {
    "name": "ipython",
    "version": 3
   },
   "file_extension": ".py",
   "mimetype": "text/x-python",
   "name": "python",
   "nbconvert_exporter": "python",
   "pygments_lexer": "ipython3",
   "version": "3.10.8"
  }
 },
 "nbformat": 4,
 "nbformat_minor": 5
}
