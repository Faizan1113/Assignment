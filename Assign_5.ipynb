{
 "cells": [
  {
   "cell_type": "markdown",
   "id": "70034359-f041-4cb6-8951-729fef7f3737",
   "metadata": {},
   "source": [
    "Question :- 1"
   ]
  },
  {
   "cell_type": "markdown",
   "id": "34a6e286-89a5-4dad-bb6d-b7c839fd59d9",
   "metadata": {},
   "source": [
    "Guido van Rossum developed python programming language\n",
    "\n"
   ]
  },
  {
   "cell_type": "markdown",
   "id": "e31f3254-1d0f-453c-9fb5-646c83ebd2a6",
   "metadata": {},
   "source": [
    "Question :- 2"
   ]
  },
  {
   "cell_type": "markdown",
   "id": "719336aa-3762-4b2e-9e37-a1ba6e003cb9",
   "metadata": {},
   "source": [
    "Python support three programming paradigms: Imperative, Functional, and Object-Oriented ."
   ]
  },
  {
   "cell_type": "markdown",
   "id": "e9510fde-e432-495b-87c1-cb13bd7f864d",
   "metadata": {},
   "source": [
    "Question :- 3"
   ]
  },
  {
   "cell_type": "markdown",
   "id": "ab583438-28a2-4181-8c0b-cbcfb30058da",
   "metadata": {},
   "source": [
    "Yes, Python is a case−sensitive programming language"
   ]
  },
  {
   "cell_type": "markdown",
   "id": "9f1fec77-4359-4a6e-91a5-9a50e9844bff",
   "metadata": {},
   "source": [
    "Question :- 4"
   ]
  },
  {
   "cell_type": "markdown",
   "id": "d78c1159-d5e3-4387-902b-9b1fea3ab4f1",
   "metadata": {},
   "source": [
    "pyc: This is the file extension for compiled Python code files. When a . py file is executed, the Python interpreter compiles the code to bytecode and saves it in a . pyc file to improve performance on subsequent executions."
   ]
  },
  {
   "cell_type": "markdown",
   "id": "766d8965-afa1-405e-8197-17defad68ca7",
   "metadata": {},
   "source": [
    "Question :- 5"
   ]
  },
  {
   "cell_type": "markdown",
   "id": "9e3c5517-5535-4be7-8c87-e7b3c0b01836",
   "metadata": {},
   "source": [
    "Python is an interpreted language"
   ]
  },
  {
   "cell_type": "markdown",
   "id": "b3931ef7-3b85-4ce9-a670-c03029a27f2c",
   "metadata": {},
   "source": [
    "Question :- 6"
   ]
  },
  {
   "cell_type": "raw",
   "id": "8ae1006f-d52c-4210-b719-b80150e2b649",
   "metadata": {},
   "source": [
    "Function Definition :\n",
    "    def function_name :\n",
    "        return\n",
    "\n",
    "Conditional Statement :\n",
    "     if condition :\n",
    "         print()\n",
    "    else :\n",
    "        print()\n",
    "loops :\n",
    "     for _ in l :\n",
    "         print()\n",
    "     \n",
    "     while n < 10 :\n",
    "         print()\n",
    "         \n",
    "     \n",
    "\n",
    "        "
   ]
  },
  {
   "cell_type": "markdown",
   "id": "4cd62ccf-a489-446b-b305-025cacbb8c2b",
   "metadata": {
    "tags": []
   },
   "source": [
    "Question :- 7\n",
    "\n"
   ]
  },
  {
   "cell_type": "code",
   "execution_count": 3,
   "id": "888630d1-8657-4738-bd46-f6ebfa4a4fb2",
   "metadata": {},
   "outputs": [],
   "source": [
    "#"
   ]
  },
  {
   "cell_type": "markdown",
   "id": "e0212b02-aa1d-4a3d-9308-c999b4d8e3f7",
   "metadata": {},
   "source": [
    "Question :- 8"
   ]
  },
  {
   "cell_type": "raw",
   "id": "27d311bd-be01-4271-a74e-a6f01e6f3d27",
   "metadata": {},
   "source": [
    "1. sys.version\n",
    "2. platform.python_version()\n",
    "3. platform.python_version_tuple()\n",
    "4. sys.version_info\n"
   ]
  },
  {
   "cell_type": "markdown",
   "id": "32956ebe-639b-4a7e-9736-afcf87015ea6",
   "metadata": {},
   "source": [
    "Question :- 9"
   ]
  },
  {
   "cell_type": "markdown",
   "id": "84b66c6f-78dd-40c5-b623-8cdec3f748fe",
   "metadata": {},
   "source": [
    "Python supports the creation of anonymous functions at runtime, using a construct called \n",
    "\"Lambda function\""
   ]
  },
  {
   "cell_type": "markdown",
   "id": "31411a27-01ab-4b1f-be62-e5c8523aad0b",
   "metadata": {},
   "source": [
    "Question :- 10"
   ]
  },
  {
   "cell_type": "markdown",
   "id": "7227c120-deda-428d-8b9d-d2c8925e74e0",
   "metadata": {},
   "source": [
    "PIP stands for \"Pip Installs Packages\" or sometimes \"Preferred Installer Program\". PIP is the default package manager for Python, used for installing, managing, and uninstalling packages or libraries written in Python. It is a command-line tool that simplifies the process of installing and managing third-party Python packages."
   ]
  },
  {
   "cell_type": "markdown",
   "id": "fb45ead1-2123-4daa-9493-613a5c266e1b",
   "metadata": {},
   "source": [
    "Question :- 11"
   ]
  },
  {
   "cell_type": "raw",
   "id": "8d3f5878-d98f-43c7-b848-530a44a2777a",
   "metadata": {},
   "source": [
    "print()\n",
    "len()\n",
    "input()\n",
    "int()\n",
    "lambda\n",
    "for loop\n",
    "while loop\n",
    "float()\n",
    "append()\n",
    "extend()\n",
    "pop()\n",
    "remove"
   ]
  },
  {
   "cell_type": "markdown",
   "id": "27e37d10-e122-47e2-a391-2c6358772ca3",
   "metadata": {},
   "source": [
    "Question :- 12"
   ]
  },
  {
   "cell_type": "markdown",
   "id": "7dd82fb0-4eac-4f7b-ac37-a02d28b3c1b3",
   "metadata": {},
   "source": [
    "In Python, the maximum possible length of an identifier is not explicitly defined by the language specification. However, there is a practical limit imposed by the implementation and the operating system. In most implementations, including CPython (the reference implementation), the maximum length of an identifier is 255 characters.\n",
    "\n"
   ]
  },
  {
   "cell_type": "markdown",
   "id": "3cb0d0cd-1059-4900-82c8-d44b30a327fb",
   "metadata": {},
   "source": [
    "Question :- 13"
   ]
  },
  {
   "cell_type": "markdown",
   "id": "5dea4551-2723-4945-9a77-0d65a33cdb85",
   "metadata": {},
   "source": [
    "Python offers excellent code readability, making it easier to understand and maintain\n",
    "\n",
    "Python's vast library ecosystem provides a wealth of pre-built functionality for various tasks, saving development time and effort.\n",
    "\n",
    "Some of the benefits of using Python include its readability, extensive community support, versatility, rapid development, and strong ecosystem for data science and machine learning."
   ]
  },
  {
   "cell_type": "markdown",
   "id": "02e4c54b-464d-4a57-b304-25b5be22226c",
   "metadata": {},
   "source": [
    "Question :- 14"
   ]
  },
  {
   "cell_type": "markdown",
   "id": "9bceb865-8aaf-4754-8803-6c9e81168d9e",
   "metadata": {},
   "source": [
    "In Python, memory management is handled automatically through a combination of techniques, including reference counting, garbage collection, and memory pooling"
   ]
  },
  {
   "cell_type": "markdown",
   "id": "d0227aec-eb8d-4280-a74c-11bd85e7d7f0",
   "metadata": {},
   "source": [
    "Question :- 15"
   ]
  },
  {
   "cell_type": "markdown",
   "id": "8225a4bc-7b8a-455b-8fb3-98c9014ae0a7",
   "metadata": {},
   "source": [
    "Download the Python installer from the official Python website (python.org).\n",
    "\n",
    "Run the installer and select the option to \"Add Python to PATH\" during the installation process. This will automatically set the necessary path variables.\n",
    "\n",
    "Complete the installation by following the prompts.\n",
    "\n",
    "Open the command prompt and verify that Python is installed by typing python --version or python3 --version.\n",
    "\n",
    "To run Python scripts from any location in the command prompt, set the path variable manually. Go to the Control Panel > System > Advanced System Settings > Environment Variables.\n",
    "\n",
    "In the System Variables section, locate the \"Path\" variable and click \"Edit\".\n",
    "\n",
    "Add the path to the Python installation directory (usually C:\\PythonXX, where XX represents the version number) to the list of paths."
   ]
  },
  {
   "cell_type": "markdown",
   "id": "67792adb-a737-4a03-bf5d-7f5afc59bcec",
   "metadata": {},
   "source": [
    "Question 16 :-"
   ]
  },
  {
   "cell_type": "markdown",
   "id": "ac2b29d4-83bd-4f42-8bd4-3f664c16b45b",
   "metadata": {},
   "source": []
  }
 ],
 "metadata": {
  "kernelspec": {
   "display_name": "Python 3 (ipykernel)",
   "language": "python",
   "name": "python3"
  },
  "language_info": {
   "codemirror_mode": {
    "name": "ipython",
    "version": 3
   },
   "file_extension": ".py",
   "mimetype": "text/x-python",
   "name": "python",
   "nbconvert_exporter": "python",
   "pygments_lexer": "ipython3",
   "version": "3.10.8"
  }
 },
 "nbformat": 4,
 "nbformat_minor": 5
}
