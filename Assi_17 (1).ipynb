{
 "cells": [
  {
   "cell_type": "raw",
   "id": "0d9cbcc0-5206-42e7-a8cb-38fad4d9347d",
   "metadata": {},
   "source": [
    "\n",
    "\n",
    "Question :- 1\n",
    "\n",
    "\n",
    "for creating web API and to give the source and route to API there are two methods :\n",
    "        1. GET \n",
    "        2. POST\n",
    "        \n",
    "GET : In this methods when data is passing thoruogh the URL   and in this methods we \n",
    "      use URL and source name to get the data . \n",
    "      \n",
    "      This method is not safe from the view point of internal security \n",
    "    \n",
    "POST : In this methods data is passing through the body of the form. We used POSTMAN app        to access the data \n",
    "        \n",
    "\n",
    "\n"
   ]
  },
  {
   "cell_type": "markdown",
   "id": "d3d7b4de-2a86-48c1-a65d-dc50d544f13b",
   "metadata": {},
   "source": [
    "Question :- 2\n",
    "\n",
    "In Flask, the \"request\" object is used to access and handle incoming HTTP requests made to your web application. It is a global object that encapsulates the details of the current HTTP request, such as the request method (GET, POST, etc.), form data, query parameters, headers, cookies, and more.\n",
    "\n",
    "The \"request\" object is essential in web development because it allows you to retrieve data sent by the client (e.g., a web browser or a mobile app) to your Flask application. This data can include form submissions, URL parameters, and other information needed to process the request and generate an appropriate response."
   ]
  },
  {
   "cell_type": "markdown",
   "id": "44c28741-0e78-4069-81ca-a2c9b53715f3",
   "metadata": {},
   "source": [
    "Question :- 3 \n",
    "\n",
    "\n",
    "In Flask, the \"redirect()\" function is used to redirect the user's web browser to a different URL. It is a convenient way to handle certain scenarios in web development where you want to guide the user to a different page or resource."
   ]
  },
  {
   "cell_type": "markdown",
   "id": "0b2b0f71-c4b0-4e2b-b692-1bafb24d9f88",
   "metadata": {},
   "source": [
    "Question  :- 4\n",
    "\n",
    "In Flask, templates are files that contain the HTML code along with placeholders for dynamic data that need to be filled in before sending the final response to the client's web browser. Templates allow you to separate the presentation logic from the application logic, making it easier to maintain and update the user interface of your web application.\n",
    "\n",
    "By using templates, you can define the structure of your web pages with placeholders (also known as template variables) that will be populated with actual data when rendering the template. \n",
    "\n",
    "The render template :--\n",
    "\n",
    "The \"render_template()\" function in Flask is used to render templates and generate HTML responses for the client's web browser. It takes the name of the template file as its argument and returns the rendered HTML content."
   ]
  },
  {
   "cell_type": "markdown",
   "id": "1512972a-f81d-41e2-9699-38ab28903310",
   "metadata": {},
   "source": [
    "Question :- 5"
   ]
  },
  {
   "cell_type": "code",
   "execution_count": 6,
   "id": "c54dbb39-4e40-4199-b8d0-7ca1a1838f9f",
   "metadata": {},
   "outputs": [
    {
     "ename": "SyntaxError",
     "evalue": "positional argument follows keyword argument (2929232714.py, line 4)",
     "output_type": "error",
     "traceback": [
      "\u001b[0;36m  Cell \u001b[0;32mIn[6], line 4\u001b[0;36m\u001b[0m\n\u001b[0;31m    height==300)\u001b[0m\n\u001b[0m               ^\u001b[0m\n\u001b[0;31mSyntaxError\u001b[0m\u001b[0;31m:\u001b[0m positional argument follows keyword argument\n"
     ]
    }
   ],
   "source": [
    "from IPython.display import Image \n",
    "Image(url=\"https://yellow-fireman-fmmap.pwskills.app/files/work/Assignment_sec/abc.png\",\n",
    "     widt==300,\n",
    "     height==300)"
   ]
  },
  {
   "cell_type": "code",
   "execution_count": null,
   "id": "1f251cc1-5f04-4507-ab0a-a1243df7486e",
   "metadata": {},
   "outputs": [],
   "source": []
  }
 ],
 "metadata": {
  "kernelspec": {
   "display_name": "Python 3 (ipykernel)",
   "language": "python",
   "name": "python3"
  },
  "language_info": {
   "codemirror_mode": {
    "name": "ipython",
    "version": 3
   },
   "file_extension": ".py",
   "mimetype": "text/x-python",
   "name": "python",
   "nbconvert_exporter": "python",
   "pygments_lexer": "ipython3",
   "version": "3.10.8"
  }
 },
 "nbformat": 4,
 "nbformat_minor": 5
}
