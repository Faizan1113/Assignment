{
 "cells": [
  {
   "cell_type": "code",
   "execution_count": 4,
   "id": "d9f06c93-f8bf-4a77-a639-da8d6937a04e",
   "metadata": {},
   "outputs": [
    {
     "name": "stdin",
     "output_type": "stream",
     "text": [
      "eneter your percentage 85\n"
     ]
    },
    {
     "name": "stdout",
     "output_type": "stream",
     "text": [
      "B Grade\n"
     ]
    }
   ],
   "source": [
    "n = int(input(\"eneter your percentage\"))\n",
    "\n",
    "if n > 90 :\n",
    "    print(\"A Grade\")\n",
    "elif n > 80 and n <=90 :\n",
    "        print(\"B Grade\")\n",
    "elif n >= 60 and n <= 80:\n",
    "        print(\"C Grade\")\n",
    "else :\n",
    "    print(\"D Grade\")\n",
    "        \n"
   ]
  },
  {
   "cell_type": "markdown",
   "id": "b87cb4f4-659b-4650-a2f1-a89e1a6efc28",
   "metadata": {},
   "source": [
    "Question :- 2"
   ]
  },
  {
   "cell_type": "code",
   "execution_count": 6,
   "id": "5cea4c79-3499-4e97-b35f-096d44c25f96",
   "metadata": {},
   "outputs": [
    {
     "name": "stdin",
     "output_type": "stream",
     "text": [
      "enter cost price 65000\n"
     ]
    },
    {
     "name": "stdout",
     "output_type": "stream",
     "text": [
      "10%\n"
     ]
    }
   ],
   "source": [
    "cost_price = int(input(\"enter cost price\"))\n",
    "\n",
    "if cost_price > 100000 :\n",
    "    print('15%')\n",
    "elif cost_price > 50000 and cost_price <= 100000 :\n",
    "    print('10%')\n",
    "else :\n",
    "    print('5%')\n",
    "    "
   ]
  },
  {
   "cell_type": "markdown",
   "id": "48c0ad69-6237-49ae-8620-e05da58efec3",
   "metadata": {},
   "source": [
    "Question :- 3"
   ]
  },
  {
   "cell_type": "code",
   "execution_count": 9,
   "id": "9f90607d-14a5-4c3d-b821-c3559464680b",
   "metadata": {},
   "outputs": [
    {
     "name": "stdin",
     "output_type": "stream",
     "text": [
      "enter city name Delhi\n"
     ]
    },
    {
     "name": "stdout",
     "output_type": "stream",
     "text": [
      "Red Fort\n"
     ]
    }
   ],
   "source": [
    "monument_name = input(\"enter city name\")\n",
    "\n",
    "if monument_name == \"Delhi\":\n",
    "    print(\"Red Fort\")\n",
    "elif monument_name ==' Agra':\n",
    "    print(\"Tajmahal\")\n",
    "elif monument_name == 'Jaipur' :\n",
    "        print(\"Jal Mahal\")"
   ]
  },
  {
   "cell_type": "code",
   "execution_count": 10,
   "id": "599d63fe-8f62-4e5c-bdda-76b3810d1ce1",
   "metadata": {},
   "outputs": [],
   "source": [
    "def division_num (number) :\n",
    "    counter = 0\n",
    "    while number > 10 :\n",
    "        number /=3\n",
    "        counter  +=1\n",
    "    return counter \n",
    "    "
   ]
  },
  {
   "cell_type": "code",
   "execution_count": 13,
   "id": "f11e5cc8-8f01-4b87-b36b-32f9460d1e85",
   "metadata": {},
   "outputs": [],
   "source": [
    "Div = division_num"
   ]
  },
  {
   "cell_type": "code",
   "execution_count": 14,
   "id": "9498ea34-f94a-4876-9628-6c867a4ec859",
   "metadata": {},
   "outputs": [
    {
     "data": {
      "text/plain": [
       "3"
      ]
     },
     "execution_count": 14,
     "metadata": {},
     "output_type": "execute_result"
    }
   ],
   "source": [
    "Div(243)"
   ]
  },
  {
   "cell_type": "markdown",
   "id": "dc3600d8-7cb1-4dc8-9d92-1b2f333e9940",
   "metadata": {},
   "source": [
    "Question 5 :-"
   ]
  },
  {
   "cell_type": "markdown",
   "id": "9ea0e1c5-7770-4f9e-950d-e383bf16e6fe",
   "metadata": {},
   "source": [
    "The while loop in Python is a control flow statement that allows you to repeatedly execute a block of code as long as a certain condition is true. It is useful when you want to repeat a specific task until a condition is no longer met. The condition is checked before each iteration, and if it evaluates to True, the loop body is executed. If the condition evaluates to False, the loop is exited, and the program continues with the next statement."
   ]
  },
  {
   "cell_type": "code",
   "execution_count": 18,
   "id": "4352c5fe-b208-4dc5-8385-736d1ee72a1f",
   "metadata": {},
   "outputs": [
    {
     "name": "stdout",
     "output_type": "stream",
     "text": [
      "0\n",
      "1\n",
      "2\n",
      "3\n",
      "4\n"
     ]
    }
   ],
   "source": [
    "count = 0\n",
    "while count < 5 :\n",
    "    print(count)\n",
    "    count+=1"
   ]
  },
  {
   "cell_type": "markdown",
   "id": "14c3abae-4bff-404d-b4f3-15765b117668",
   "metadata": {},
   "source": [
    "In above example we take the variable count() , the while loop will check the condition and if it is true then while loop will execute the body.\n",
    "the loop will repeat untill count reaches 5"
   ]
  },
  {
   "cell_type": "markdown",
   "id": "d9feaf99-4775-48ba-b2ac-b1ad09d10ac8",
   "metadata": {},
   "source": [
    "Question 6 :-"
   ]
  },
  {
   "cell_type": "code",
   "execution_count": 23,
   "id": "a98067e7-0db3-474c-9c00-848c9ed9f368",
   "metadata": {},
   "outputs": [
    {
     "name": "stdout",
     "output_type": "stream",
     "text": [
      "*\n",
      "**\n",
      "***\n",
      "****\n",
      "*****\n"
     ]
    }
   ],
   "source": [
    "row = 1\n",
    "while row <= 5:\n",
    "    col = 1\n",
    "    while col <= row :\n",
    "        print(\"*\" , end = \"\" )\n",
    "        col +=1\n",
    "    print()\n",
    "    row +=1\n",
    "        \n",
    "        "
   ]
  },
  {
   "cell_type": "code",
   "execution_count": 24,
   "id": "5826be58-55fe-459f-b14d-cb20d474f49c",
   "metadata": {},
   "outputs": [
    {
     "name": "stdout",
     "output_type": "stream",
     "text": [
      "* * * * \n",
      "* * * * \n",
      "* * * * \n",
      "* * * * \n"
     ]
    }
   ],
   "source": [
    "row = 1\n",
    "while row <= 4:\n",
    "    col = 1\n",
    "    while col <= 4:\n",
    "        print(\"*\", end=\" \")\n",
    "        col += 1\n",
    "    print()\n",
    "    row += 1\n",
    "    \n"
   ]
  },
  {
   "cell_type": "code",
   "execution_count": 27,
   "id": "a19efc5a-b605-43c2-b9e3-73d10f1df20b",
   "metadata": {},
   "outputs": [
    {
     "name": "stdout",
     "output_type": "stream",
     "text": [
      "*     *\n",
      " *   * \n",
      "  * *  \n",
      "   *   \n",
      "  * *  \n",
      " *   * \n",
      "*     *\n"
     ]
    }
   ],
   "source": [
    "size = 7\n",
    "row = 1\n",
    "while row <= size:\n",
    "    col = 1\n",
    "    while col <= size:\n",
    "        if col == row or col == size - row + 1:\n",
    "            print(\"*\", end=\"\")\n",
    "        else:\n",
    "            print(\" \", end=\"\")\n",
    "        col += 1\n",
    "    print()\n",
    "    row += 1\n"
   ]
  },
  {
   "cell_type": "markdown",
   "id": "45ac13d0-75e4-4b2d-86fe-3ccbecb89f15",
   "metadata": {},
   "source": [
    "Question 7"
   ]
  },
  {
   "cell_type": "code",
   "execution_count": 42,
   "id": "b500624b-a51f-449f-a5ed-56a35fc4b0ee",
   "metadata": {},
   "outputs": [
    {
     "name": "stdout",
     "output_type": "stream",
     "text": [
      "10\n",
      "9\n",
      "8\n",
      "7\n",
      "6\n",
      "5\n",
      "4\n",
      "3\n",
      "2\n",
      "1\n"
     ]
    }
   ],
   "source": [
    "number = 10\n",
    "while number > 0:\n",
    "    print(number)\n",
    "    number -=1\n",
    "\n",
    "    \n",
    "    "
   ]
  },
  {
   "cell_type": "code",
   "execution_count": null,
   "id": "830ee61c-00ba-44fb-8df7-d988a4185408",
   "metadata": {},
   "outputs": [],
   "source": []
  }
 ],
 "metadata": {
  "kernelspec": {
   "display_name": "Python 3 (ipykernel)",
   "language": "python",
   "name": "python3"
  },
  "language_info": {
   "codemirror_mode": {
    "name": "ipython",
    "version": 3
   },
   "file_extension": ".py",
   "mimetype": "text/x-python",
   "name": "python",
   "nbconvert_exporter": "python",
   "pygments_lexer": "ipython3",
   "version": "3.10.8"
  }
 },
 "nbformat": 4,
 "nbformat_minor": 5
}
